{
 "cells": [
  {
   "cell_type": "code",
   "execution_count": 45,
   "metadata": {},
   "outputs": [
    {
     "data": {
      "application/vnd.jupyter.widget-view+json": {
       "model_id": "",
       "version_major": 2,
       "version_minor": 0
      },
      "text/plain": [
       "FloatProgress(value=0.0, bar_style='info', description='Progress:', layout=Layout(height='25px', width='50%'),…"
      ]
     },
     "metadata": {},
     "output_type": "display_data"
    },
    {
     "name": "stdout",
     "output_type": "stream",
     "text": [
      "import org.apache.spark.{SparkConf, SparkContext}\n",
      "import org.apache.spark.sql.SparkSession\n",
      "conf: org.apache.spark.SparkConf = org.apache.spark.SparkConf@54f292e5\n",
      "res93: org.apache.spark.SparkConf = org.apache.spark.SparkConf@54f292e5\n",
      "res94: org.apache.spark.SparkConf = org.apache.spark.SparkConf@54f292e5\n",
      "res95: org.apache.spark.SparkConf = org.apache.spark.SparkConf@54f292e5\n",
      "res96: org.apache.spark.SparkConf = org.apache.spark.SparkConf@54f292e5\n",
      "sc: org.apache.spark.SparkContext = org.apache.spark.SparkContext@18a50a5\n",
      "spark: org.apache.spark.sql.SparkSession = org.apache.spark.sql.SparkSession@528c929e\n"
     ]
    }
   ],
   "source": [
    "sc.stop()\n",
    "\n",
    "import org.apache.spark.{SparkConf,SparkContext}\n",
    "import org.apache.spark.sql.SparkSession\n",
    "\n",
    "var conf = new SparkConf()\n",
    "    conf.setAppName(\"202-f\")\n",
    "    conf.setMaster(\"spark://10.120.26.200:7077\")\n",
    "    conf.set(\"spark.executor.memory\", \"12g\")\n",
    "    conf.set(\"spark.cores.max\", \"6\")\n",
    "\n",
    "var sc = new SparkContext(conf)\n",
    "var spark = SparkSession.builder.appName(\"sql coming~\").getOrCreate()"
   ]
  },
  {
   "cell_type": "code",
   "execution_count": 46,
   "metadata": {},
   "outputs": [
    {
     "data": {
      "application/vnd.jupyter.widget-view+json": {
       "model_id": "",
       "version_major": 2,
       "version_minor": 0
      },
      "text/plain": [
       "FloatProgress(value=0.0, bar_style='info', description='Progress:', layout=Layout(height='25px', width='50%'),…"
      ]
     },
     "metadata": {},
     "output_type": "display_data"
    },
    {
     "name": "stderr",
     "output_type": "stream",
     "text": [
      "An error was encountered:\n",
      "org.apache.spark.SparkException: Job aborted due to stage failure: Task 5 in stage 0.0 failed 4 times, most recent failure: Lost task 5.3 in stage 0.0 (TID 10, 10.120.26.200, executor 2): java.lang.ClassNotFoundException: $anonfun$1\n",
      "\tat java.net.URLClassLoader.findClass(URLClassLoader.java:382)\n",
      "\tat java.lang.ClassLoader.loadClass(ClassLoader.java:418)\n",
      "\tat java.lang.ClassLoader.loadClass(ClassLoader.java:351)\n",
      "\tat java.lang.Class.forName0(Native Method)\n",
      "\tat java.lang.Class.forName(Class.java:348)\n",
      "\tat org.apache.spark.serializer.JavaDeserializationStream$$anon$1.resolveClass(JavaSerializer.scala:67)\n",
      "\tat java.io.ObjectInputStream.readNonProxyDesc(ObjectInputStream.java:1946)\n",
      "\tat java.io.ObjectInputStream.readClassDesc(ObjectInputStream.java:1829)\n",
      "\tat java.io.ObjectInputStream.readOrdinaryObject(ObjectInputStream.java:2120)\n",
      "\tat java.io.ObjectInputStream.readObject0(ObjectInputStream.java:1646)\n",
      "\tat java.io.ObjectInputStream.defaultReadFields(ObjectInputStream.java:2365)\n",
      "\tat java.io.ObjectInputStream.readSerialData(ObjectInputStream.java:2289)\n",
      "\tat java.io.ObjectInputStream.readOrdinaryObject(ObjectInputStream.java:2147)\n",
      "\tat java.io.ObjectInputStream.readObject0(ObjectInputStream.java:1646)\n",
      "\tat java.io.ObjectInputStream.defaultReadFields(ObjectInputStream.java:2365)\n",
      "\tat java.io.ObjectInputStream.readSerialData(ObjectInputStream.java:2289)\n",
      "\tat java.io.ObjectInputStream.readOrdinaryObject(ObjectInputStream.java:2147)\n",
      "\tat java.io.ObjectInputStream.readObject0(ObjectInputStream.java:1646)\n",
      "\tat java.io.ObjectInputStream.defaultReadFields(ObjectInputStream.java:2365)\n",
      "\tat java.io.ObjectInputStream.readSerialData(ObjectInputStream.java:2289)\n",
      "\tat java.io.ObjectInputStream.readOrdinaryObject(ObjectInputStream.java:2147)\n",
      "\tat java.io.ObjectInputStream.readObject0(ObjectInputStream.java:1646)\n",
      "\tat java.io.ObjectInputStream.readObject(ObjectInputStream.java:482)\n",
      "\tat java.io.ObjectInputStream.readObject(ObjectInputStream.java:440)\n",
      "\tat org.apache.spark.serializer.JavaDeserializationStream.readObject(JavaSerializer.scala:75)\n",
      "\tat org.apache.spark.serializer.JavaSerializerInstance.deserialize(JavaSerializer.scala:114)\n",
      "\tat org.apache.spark.scheduler.ResultTask.runTask(ResultTask.scala:83)\n",
      "\tat org.apache.spark.scheduler.Task.run(Task.scala:123)\n",
      "\tat org.apache.spark.executor.Executor$TaskRunner$$anonfun$10.apply(Executor.scala:408)\n",
      "\tat org.apache.spark.util.Utils$.tryWithSafeFinally(Utils.scala:1360)\n",
      "\tat org.apache.spark.executor.Executor$TaskRunner.run(Executor.scala:414)\n",
      "\tat java.util.concurrent.ThreadPoolExecutor.runWorker(ThreadPoolExecutor.java:1149)\n",
      "\tat java.util.concurrent.ThreadPoolExecutor$Worker.run(ThreadPoolExecutor.java:624)\n",
      "\tat java.lang.Thread.run(Thread.java:748)\n",
      "\n",
      "Driver stacktrace:\n",
      "  at org.apache.spark.scheduler.DAGScheduler.org$apache$spark$scheduler$DAGScheduler$$failJobAndIndependentStages(DAGScheduler.scala:1891)\n",
      "  at org.apache.spark.scheduler.DAGScheduler$$anonfun$abortStage$1.apply(DAGScheduler.scala:1879)\n",
      "  at org.apache.spark.scheduler.DAGScheduler$$anonfun$abortStage$1.apply(DAGScheduler.scala:1878)\n",
      "  at scala.collection.mutable.ResizableArray$class.foreach(ResizableArray.scala:59)\n",
      "  at scala.collection.mutable.ArrayBuffer.foreach(ArrayBuffer.scala:48)\n",
      "  at org.apache.spark.scheduler.DAGScheduler.abortStage(DAGScheduler.scala:1878)\n",
      "  at org.apache.spark.scheduler.DAGScheduler$$anonfun$handleTaskSetFailed$1.apply(DAGScheduler.scala:927)\n",
      "  at org.apache.spark.scheduler.DAGScheduler$$anonfun$handleTaskSetFailed$1.apply(DAGScheduler.scala:927)\n",
      "  at scala.Option.foreach(Option.scala:257)\n",
      "  at org.apache.spark.scheduler.DAGScheduler.handleTaskSetFailed(DAGScheduler.scala:927)\n",
      "  at org.apache.spark.scheduler.DAGSchedulerEventProcessLoop.doOnReceive(DAGScheduler.scala:2112)\n",
      "  at org.apache.spark.scheduler.DAGSchedulerEventProcessLoop.onReceive(DAGScheduler.scala:2061)\n",
      "  at org.apache.spark.scheduler.DAGSchedulerEventProcessLoop.onReceive(DAGScheduler.scala:2050)\n",
      "  at org.apache.spark.util.EventLoop$$anon$1.run(EventLoop.scala:49)\n",
      "  at org.apache.spark.scheduler.DAGScheduler.runJob(DAGScheduler.scala:738)\n",
      "  at org.apache.spark.SparkContext.runJob(SparkContext.scala:2061)\n",
      "  at org.apache.spark.SparkContext.runJob(SparkContext.scala:2082)\n",
      "  at org.apache.spark.SparkContext.runJob(SparkContext.scala:2101)\n",
      "  at org.apache.spark.SparkContext.runJob(SparkContext.scala:2126)\n",
      "  at org.apache.spark.rdd.RDD$$anonfun$collect$1.apply(RDD.scala:990)\n",
      "  at org.apache.spark.rdd.RDDOperationScope$.withScope(RDDOperationScope.scala:151)\n",
      "  at org.apache.spark.rdd.RDDOperationScope$.withScope(RDDOperationScope.scala:112)\n",
      "  at org.apache.spark.rdd.RDD.withScope(RDD.scala:385)\n",
      "  at org.apache.spark.rdd.RDD.collect(RDD.scala:989)\n",
      "  ... 52 elided\n",
      "Caused by: java.lang.ClassNotFoundException: $anonfun$1\n",
      "  at java.net.URLClassLoader.findClass(URLClassLoader.java:382)\n",
      "  at java.lang.ClassLoader.loadClass(ClassLoader.java:418)\n",
      "  at java.lang.ClassLoader.loadClass(ClassLoader.java:351)\n",
      "  at java.lang.Class.forName0(Native Method)\n",
      "  at java.lang.Class.forName(Class.java:348)\n",
      "  at org.apache.spark.serializer.JavaDeserializationStream$$anon$1.resolveClass(JavaSerializer.scala:67)\n",
      "  at java.io.ObjectInputStream.readNonProxyDesc(ObjectInputStream.java:1946)\n",
      "  at java.io.ObjectInputStream.readClassDesc(ObjectInputStream.java:1829)\n",
      "  at java.io.ObjectInputStream.readOrdinaryObject(ObjectInputStream.java:2120)\n",
      "  at java.io.ObjectInputStream.readObject0(ObjectInputStream.java:1646)\n",
      "  at java.io.ObjectInputStream.defaultReadFields(ObjectInputStream.java:2365)\n",
      "  at java.io.ObjectInputStream.readSerialData(ObjectInputStream.java:2289)\n",
      "  at java.io.ObjectInputStream.readOrdinaryObject(ObjectInputStream.java:2147)\n",
      "  at java.io.ObjectInputStream.readObject0(ObjectInputStream.java:1646)\n",
      "  at java.io.ObjectInputStream.defaultReadFields(ObjectInputStream.java:2365)\n",
      "  at java.io.ObjectInputStream.readSerialData(ObjectInputStream.java:2289)\n",
      "  at java.io.ObjectInputStream.readOrdinaryObject(ObjectInputStream.java:2147)\n",
      "  at java.io.ObjectInputStream.readObject0(ObjectInputStream.java:1646)\n",
      "  at java.io.ObjectInputStream.defaultReadFields(ObjectInputStream.java:2365)\n",
      "  at java.io.ObjectInputStream.readSerialData(ObjectInputStream.java:2289)\n",
      "  at java.io.ObjectInputStream.readOrdinaryObject(ObjectInputStream.java:2147)\n",
      "  at java.io.ObjectInputStream.readObject0(ObjectInputStream.java:1646)\n",
      "  at java.io.ObjectInputStream.readObject(ObjectInputStream.java:482)\n",
      "  at java.io.ObjectInputStream.readObject(ObjectInputStream.java:440)\n",
      "  at org.apache.spark.serializer.JavaDeserializationStream.readObject(JavaSerializer.scala:75)\n",
      "  at org.apache.spark.serializer.JavaSerializerInstance.deserialize(JavaSerializer.scala:114)\n",
      "  at org.apache.spark.scheduler.ResultTask.runTask(ResultTask.scala:83)\n",
      "  at org.apache.spark.scheduler.Task.run(Task.scala:123)\n",
      "  at org.apache.spark.executor.Executor$TaskRunner$$anonfun$10.apply(Executor.scala:408)\n",
      "  at org.apache.spark.util.Utils$.tryWithSafeFinally(Utils.scala:1360)\n",
      "  at org.apache.spark.executor.Executor$TaskRunner.run(Executor.scala:414)\n",
      "  ... 3 more\n",
      "\n"
     ]
    }
   ],
   "source": [
    "//map\n",
    "val rdd = sc.parallelize(List(3,2,4))\n",
    "val new_rdd = rdd.map(x=>x+1)\n",
    "new_rdd.collect.foreach(println)"
   ]
  },
  {
   "cell_type": "code",
   "execution_count": null,
   "metadata": {},
   "outputs": [],
   "source": []
  }
 ],
 "metadata": {
  "kernelspec": {
   "display_name": "Spark",
   "language": "",
   "name": "sparkkernel"
  },
  "language_info": {
   "codemirror_mode": "text/x-scala",
   "mimetype": "text/x-scala",
   "name": "scala",
   "pygments_lexer": "scala"
  }
 },
 "nbformat": 4,
 "nbformat_minor": 2
}
