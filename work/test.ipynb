{
 "cells": [
  {
   "cell_type": "code",
   "execution_count": 4,
   "metadata": {},
   "outputs": [
    {
     "data": {
      "application/vnd.jupyter.widget-view+json": {
       "model_id": "",
       "version_major": 2,
       "version_minor": 0
      },
      "text/plain": [
       "FloatProgress(value=0.0, bar_style='info', description='Progress:', layout=Layout(height='25px', width='50%'),…"
      ]
     },
     "metadata": {},
     "output_type": "display_data"
    }
   ],
   "source": [
    "sc.stop()"
   ]
  },
  {
   "cell_type": "code",
   "execution_count": 3,
   "metadata": {},
   "outputs": [
    {
     "data": {
      "application/vnd.jupyter.widget-view+json": {
       "model_id": "",
       "version_major": 2,
       "version_minor": 0
      },
      "text/plain": [
       "FloatProgress(value=0.0, bar_style='info', description='Progress:', layout=Layout(height='25px', width='50%'),…"
      ]
     },
     "metadata": {},
     "output_type": "display_data"
    },
    {
     "name": "stdout",
     "output_type": "stream",
     "text": [
      "<SparkContext master=spark://10.120.26.200:7077 appName=coming~>"
     ]
    }
   ],
   "source": [
    "from pyspark import SparkConf, SparkContext\n",
    "conf = SparkConf().setAppName(\"coming~\").setMaster(\"spark://10.120.26.200:7077\").set(\"spark.executor.memory\", '16g').set('spark.cores.max', '4')\n",
    "sc = SparkContext(conf=conf)\n",
    "sc"
   ]
  },
  {
   "cell_type": "code",
   "execution_count": 50,
   "metadata": {},
   "outputs": [
    {
     "name": "stderr",
     "output_type": "stream",
     "text": [
      "An error was encountered:\n",
      "Invalid status code '404' from http://10.120.26.200:8998/sessions/8 with error payload: {\"msg\":\"Session '8' not found.\"}\n"
     ]
    }
   ],
   "source": [
    "from pyspark.sql import SparkSession\n",
    "spark = SparkSession.builder.appName('sql coming~').getOrCreate()"
   ]
  },
  {
   "cell_type": "code",
   "execution_count": 32,
   "metadata": {},
   "outputs": [
    {
     "data": {
      "application/vnd.jupyter.widget-view+json": {
       "model_id": "",
       "version_major": 2,
       "version_minor": 0
      },
      "text/plain": [
       "FloatProgress(value=0.0, bar_style='info', description='Progress:', layout=Layout(height='25px', width='50%'),…"
      ]
     },
     "metadata": {},
     "output_type": "display_data"
    },
    {
     "name": "stdout",
     "output_type": "stream",
     "text": [
      "['2000-01-04,17.805401,18.226801,17.805401,18.226801,7.236699,97168521223', '2000-01-05,17.858000,19.174999,17.858000,18.700899,7.424934,149925508353', '2000-01-06,18.542900,18.753599,17.752701,17.910700,7.111196,74480726535', '2000-01-07,17.173201,17.963400,16.857100,17.858000,7.090272,87599471028', '2000-01-10,17.910700,18.542900,17.647301,18.437500,7.320355,78718785880', '2000-01-11,19.017000,19.227699,17.542000,17.910700,7.111196,78772033842', '2000-01-12,17.805401,18.121401,17.436600,17.436600,6.922960,41878878974', '2000-01-13,17.647301,18.437500,17.383900,17.963400,7.132120,91567972662', '2000-01-14,18.068800,18.226801,17.383900,17.594601,6.985693,38590181', '2000-01-17,17.963400,18.542900,17.752701,18.226801,7.236699,66482427']"
     ]
    }
   ],
   "source": [
    "lines = sc.textFile(\"hdfs://10.120.26.200/user/spark/spark101/spark203/1101.TW.csv\")\n",
    "header = lines.first()\n",
    "data = lines.filter(lambda line:line!=header)\n",
    "data.take(10)"
   ]
  },
  {
   "cell_type": "code",
   "execution_count": 33,
   "metadata": {},
   "outputs": [
    {
     "data": {
      "application/vnd.jupyter.widget-view+json": {
       "model_id": "",
       "version_major": 2,
       "version_minor": 0
      },
      "text/plain": [
       "FloatProgress(value=0.0, bar_style='info', description='Progress:', layout=Layout(height='25px', width='50%'),…"
      ]
     },
     "metadata": {},
     "output_type": "display_data"
    },
    {
     "name": "stdout",
     "output_type": "stream",
     "text": [
      "+----------+---------+---------+---------+---------+---------+------------+\n",
      "|      Date|     Open|     High|      Low|    Close|Adj Close|      Volume|\n",
      "+----------+---------+---------+---------+---------+---------+------------+\n",
      "|2000-01-04|17.805401|18.226801|17.805401|18.226801| 7.236699| 97168521223|\n",
      "|2000-01-05|17.858000|19.174999|17.858000|18.700899| 7.424934|149925508353|\n",
      "|2000-01-06|18.542900|18.753599|17.752701|17.910700| 7.111196| 74480726535|\n",
      "|2000-01-07|17.173201|17.963400|16.857100|17.858000| 7.090272| 87599471028|\n",
      "|2000-01-10|17.910700|18.542900|17.647301|18.437500| 7.320355| 78718785880|\n",
      "|2000-01-11|19.017000|19.227699|17.542000|17.910700| 7.111196| 78772033842|\n",
      "|2000-01-12|17.805401|18.121401|17.436600|17.436600| 6.922960| 41878878974|\n",
      "|2000-01-13|17.647301|18.437500|17.383900|17.963400| 7.132120| 91567972662|\n",
      "|2000-01-14|18.068800|18.226801|17.383900|17.594601| 6.985693|    38590181|\n",
      "|2000-01-17|17.963400|18.542900|17.752701|18.226801| 7.236699|    66482427|\n",
      "|2000-01-18|18.226801|18.226801|17.700001|17.752701| 7.048464|    29812552|\n",
      "|2000-01-19|17.647301|18.332100|17.647301|17.805401| 7.069387| 62905296863|\n",
      "|2000-01-20|18.016100|19.017000|18.016100|19.017000| 7.550436|   172525505|\n",
      "|2000-01-21|19.438400|20.333900|19.438400|19.912500| 7.905983|204731206158|\n",
      "|2000-01-24|20.228500|21.229500|19.912500|20.913401| 8.303376|164266246972|\n",
      "|2000-01-25|20.492001|20.755400|20.070499|20.492001| 8.136064|    72595917|\n",
      "|2000-01-26|20.755400|21.387501|20.386600|21.387501| 8.491611|131025737639|\n",
      "|2000-01-27|21.387501|21.598200|20.808001|20.808001| 8.261529| 67912891777|\n",
      "|2000-01-28|20.650000|20.702700|19.754499|20.017900| 7.947831|    59100205|\n",
      "|2000-01-31|20.017900|20.439301|20.017900|20.175900| 8.010561|    44063449|\n",
      "+----------+---------+---------+---------+---------+---------+------------+\n",
      "only showing top 20 rows"
     ]
    }
   ],
   "source": [
    "tmp = data.map(lambda x:x.split(','))\n",
    "df = tmp.toDF(header.split(','))\n",
    "df.show()"
   ]
  },
  {
   "cell_type": "code",
   "execution_count": 34,
   "metadata": {},
   "outputs": [
    {
     "data": {
      "application/vnd.jupyter.widget-view+json": {
       "model_id": "",
       "version_major": 2,
       "version_minor": 0
      },
      "text/plain": [
       "FloatProgress(value=0.0, bar_style='info', description='Progress:', layout=Layout(height='25px', width='50%'),…"
      ]
     },
     "metadata": {},
     "output_type": "display_data"
    }
   ],
   "source": [
    "from pyspark.sql import functions as F\n",
    "from pyspark.sql.window import Window\n",
    "\n",
    "\n",
    "DF = df.select(df.Date, df.Low, df.High, df.Close)\n",
    "DF = DF.withColumn(\"ID\", \n",
    "                   F.row_number().over(Window.orderBy(\"Date\"))\n",
    "     )\n",
    "\n",
    "DF.createOrReplaceTempView(\"test123\")\n"
   ]
  },
  {
   "cell_type": "code",
   "execution_count": 35,
   "metadata": {},
   "outputs": [
    {
     "data": {
      "application/vnd.jupyter.widget-view+json": {
       "model_id": "",
       "version_major": 2,
       "version_minor": 0
      },
      "text/plain": [
       "FloatProgress(value=0.0, bar_style='info', description='Progress:', layout=Layout(height='25px', width='50%'),…"
      ]
     },
     "metadata": {},
     "output_type": "display_data"
    }
   ],
   "source": [
    "l=\"\"\"\n",
    "SELECT \n",
    "    Date,\n",
    "    Close,\n",
    "    Low,\n",
    "    High,\n",
    "    MIN(Low) OVER (ORDER BY Date ASC ROWS 8 PRECEDING) AS min,\n",
    "    MAX(High) OVER (ORDER BY Date ASC ROWS 8 PRECEDING) AS max,\n",
    "    (Close-MIN(Low) OVER (ORDER BY Date ASC ROWS 8 PRECEDING))/(MAX(High) OVER (ORDER BY Date ASC ROWS 8 PRECEDING)-MIN(Low) OVER (ORDER BY Date ASC ROWS 8 PRECEDING)) as RSV,\n",
    "    ID\n",
    "FROM   test123\n",
    "\"\"\"\n",
    "\n",
    "\n",
    "rback = spark.sql(l)"
   ]
  },
  {
   "cell_type": "code",
   "execution_count": 36,
   "metadata": {},
   "outputs": [
    {
     "data": {
      "application/vnd.jupyter.widget-view+json": {
       "model_id": "",
       "version_major": 2,
       "version_minor": 0
      },
      "text/plain": [
       "FloatProgress(value=0.0, bar_style='info', description='Progress:', layout=Layout(height='25px', width='50%'),…"
      ]
     },
     "metadata": {},
     "output_type": "display_data"
    },
    {
     "name": "stdout",
     "output_type": "stream",
     "text": [
      "+----------+---------+---------+---------+---------+---------+-------------------+---+\n",
      "|      Date|    Close|      Low|     High|      min|      max|                RSV| ID|\n",
      "+----------+---------+---------+---------+---------+---------+-------------------+---+\n",
      "|2000-01-04|18.226801|17.805401|18.226801|17.805401|18.226801|                1.0|  1|\n",
      "|2000-01-05|18.700899|17.858000|19.174999|17.805401|19.174999| 0.6538400318925699|  2|\n",
      "|2000-01-06|17.910700|17.752701|18.753599|17.752701|19.174999|0.11108712801396055|  3|\n",
      "|2000-01-07|17.858000|16.857100|17.963400|16.857100|19.174999| 0.4318134655565239|  4|\n",
      "|2000-01-10|18.437500|17.647301|18.542900|16.857100|19.174999| 0.6818243590423916|  5|\n",
      "|2000-01-11|17.910700|17.542000|19.227699|16.857100|19.227699| 0.4444446319263606|  6|\n",
      "|2000-01-12|17.436600|17.436600|18.121401|16.857100|19.227699|0.24445298424575349|  7|\n",
      "|2000-01-13|17.963400|17.383900|18.437500|16.857100|19.227699| 0.4666753002089345|  8|\n",
      "|2000-01-14|17.594601|17.383900|18.226801|16.857100|19.227699| 0.3111032274965108|  9|\n",
      "|2000-01-17|18.226801|17.752701|18.542900|16.857100|19.227699| 0.5777868800248367| 10|\n",
      "|2000-01-18|17.752701|17.700001|18.226801|16.857100|19.227699| 0.3777952323442296| 11|\n",
      "|2000-01-19|17.805401|17.647301|18.332100|16.857100|19.227699|0.40002590062680354| 12|\n",
      "|2000-01-20|19.017000|18.016100|19.017000|17.383900|19.227699| 0.8857256132582773| 13|\n",
      "|2000-01-21|19.912500|19.438400|20.333900|17.383900|20.333900| 0.8571525423728819| 14|\n",
      "|2000-01-24|20.913401|19.912500|21.229500|17.383900|21.229500| 0.9178024235489908| 15|\n",
      "|2000-01-25|20.492001|20.070499|20.755400|17.383900|21.229500|  0.808222644060744| 16|\n",
      "|2000-01-26|21.387501|20.386600|21.387501|17.383900|21.387501|                1.0| 17|\n",
      "|2000-01-27|20.808001|20.808001|21.598200|17.647301|21.598200| 0.7999951403465394| 18|\n",
      "|2000-01-28|20.017900|19.754499|20.702700|17.647301|21.598200| 0.6000150851742863| 19|\n",
      "|2000-01-31|20.175900|20.017900|20.439301|17.647301|21.598200|  0.640005983448324| 20|\n",
      "+----------+---------+---------+---------+---------+---------+-------------------+---+\n",
      "only showing top 20 rows"
     ]
    }
   ],
   "source": [
    "rback.show()"
   ]
  },
  {
   "cell_type": "code",
   "execution_count": 37,
   "metadata": {},
   "outputs": [
    {
     "data": {
      "application/vnd.jupyter.widget-view+json": {
       "model_id": "",
       "version_major": 2,
       "version_minor": 0
      },
      "text/plain": [
       "FloatProgress(value=0.0, bar_style='info', description='Progress:', layout=Layout(height='25px', width='50%'),…"
      ]
     },
     "metadata": {},
     "output_type": "display_data"
    }
   ],
   "source": [
    "rbackRDD = rback.rdd.map(tuple)\n",
    "drop_rows = rbackRDD.take(7)"
   ]
  },
  {
   "cell_type": "code",
   "execution_count": 38,
   "metadata": {},
   "outputs": [
    {
     "data": {
      "application/vnd.jupyter.widget-view+json": {
       "model_id": "",
       "version_major": 2,
       "version_minor": 0
      },
      "text/plain": [
       "FloatProgress(value=0.0, bar_style='info', description='Progress:', layout=Layout(height='25px', width='50%'),…"
      ]
     },
     "metadata": {},
     "output_type": "display_data"
    }
   ],
   "source": [
    "def drop_rowsF(line):\n",
    "    if line in drop_rows:\n",
    "        return False\n",
    "    else:\n",
    "        return True\n",
    "\n",
    "# rbackRDD1 = rbackRDD.filter(lambda line: line != drop_rows)drop_rowsF\n",
    "rbackRDD1 = rbackRDD.filter(drop_rowsF)"
   ]
  },
  {
   "cell_type": "code",
   "execution_count": 39,
   "metadata": {},
   "outputs": [
    {
     "data": {
      "application/vnd.jupyter.widget-view+json": {
       "model_id": "",
       "version_major": 2,
       "version_minor": 0
      },
      "text/plain": [
       "FloatProgress(value=0.0, bar_style='info', description='Progress:', layout=Layout(height='25px', width='50%'),…"
      ]
     },
     "metadata": {},
     "output_type": "display_data"
    },
    {
     "name": "stdout",
     "output_type": "stream",
     "text": [
      "[('2000-01-13', '17.963400', '17.383900', '18.437500', '16.857100', '19.227699', 0.4666753002089345, 8), ('2000-01-14', '17.594601', '17.383900', '18.226801', '16.857100', '19.227699', 0.3111032274965108, 9), ('2000-01-17', '18.226801', '17.752701', '18.542900', '16.857100', '19.227699', 0.5777868800248367, 10), ('2000-01-18', '17.752701', '17.700001', '18.226801', '16.857100', '19.227699', 0.3777952323442296, 11), ('2000-01-19', '17.805401', '17.647301', '18.332100', '16.857100', '19.227699', 0.40002590062680354, 12), ('2000-01-20', '19.017000', '18.016100', '19.017000', '17.383900', '19.227699', 0.8857256132582773, 13), ('2000-01-21', '19.912500', '19.438400', '20.333900', '17.383900', '20.333900', 0.8571525423728819, 14), ('2000-01-24', '20.913401', '19.912500', '21.229500', '17.383900', '21.229500', 0.9178024235489908, 15), ('2000-01-25', '20.492001', '20.070499', '20.755400', '17.383900', '21.229500', 0.808222644060744, 16), ('2000-01-26', '21.387501', '20.386600', '21.387501', '17.383900', '21.387501', 1.0, 17)]"
     ]
    }
   ],
   "source": [
    "rbackRDD1.take(10)"
   ]
  },
  {
   "cell_type": "code",
   "execution_count": null,
   "metadata": {},
   "outputs": [],
   "source": []
  }
 ],
 "metadata": {
  "kernelspec": {
   "display_name": "PySpark",
   "language": "",
   "name": "pysparkkernel"
  },
  "language_info": {
   "codemirror_mode": {
    "name": "python",
    "version": 3
   },
   "mimetype": "text/x-python",
   "name": "pyspark",
   "pygments_lexer": "python3"
  }
 },
 "nbformat": 4,
 "nbformat_minor": 2
}
