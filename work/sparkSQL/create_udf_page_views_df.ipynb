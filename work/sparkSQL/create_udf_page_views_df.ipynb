{
 "cells": [
  {
   "cell_type": "code",
   "execution_count": 3,
   "metadata": {},
   "outputs": [
    {
     "output_type": "error",
     "ename": "ModuleNotFoundError",
     "evalue": "No module named 'pyspark'",
     "traceback": [
      "\u001b[1;31m---------------------------------------------------------------------------\u001b[0m",
      "\u001b[1;31mModuleNotFoundError\u001b[0m                       Traceback (most recent call last)",
      "\u001b[1;32m<ipython-input-3-efa061bbf87d>\u001b[0m in \u001b[0;36m<module>\u001b[1;34m\u001b[0m\n\u001b[0;32m      1\u001b[0m \u001b[1;31m#sc.stop()\u001b[0m\u001b[1;33m\u001b[0m\u001b[1;33m\u001b[0m\u001b[1;33m\u001b[0m\u001b[0m\n\u001b[1;32m----> 2\u001b[1;33m \u001b[1;32mfrom\u001b[0m \u001b[0mpyspark\u001b[0m \u001b[1;32mimport\u001b[0m \u001b[0mSparkConf\u001b[0m\u001b[1;33m,\u001b[0m \u001b[0mSparkContext\u001b[0m\u001b[1;33m\u001b[0m\u001b[1;33m\u001b[0m\u001b[0m\n\u001b[0m\u001b[0;32m      3\u001b[0m \u001b[1;32mfrom\u001b[0m \u001b[0mpyspark\u001b[0m\u001b[1;33m.\u001b[0m\u001b[0msql\u001b[0m \u001b[1;32mimport\u001b[0m \u001b[0mSparkSession\u001b[0m\u001b[1;33m\u001b[0m\u001b[1;33m\u001b[0m\u001b[0m\n\u001b[0;32m      4\u001b[0m \u001b[1;32mfrom\u001b[0m \u001b[0mpyspark\u001b[0m\u001b[1;33m.\u001b[0m\u001b[0msql\u001b[0m\u001b[1;33m.\u001b[0m\u001b[0mfunctions\u001b[0m \u001b[1;32mimport\u001b[0m \u001b[0mudf\u001b[0m\u001b[1;33m\u001b[0m\u001b[1;33m\u001b[0m\u001b[0m\n\u001b[0;32m      5\u001b[0m \u001b[1;32mfrom\u001b[0m \u001b[0mpyspark\u001b[0m\u001b[1;33m.\u001b[0m\u001b[0msql\u001b[0m\u001b[1;33m.\u001b[0m\u001b[0mtypes\u001b[0m \u001b[1;32mimport\u001b[0m \u001b[0mIntegerType\u001b[0m\u001b[1;33m\u001b[0m\u001b[1;33m\u001b[0m\u001b[0m\n",
      "\u001b[1;31mModuleNotFoundError\u001b[0m: No module named 'pyspark'"
     ]
    }
   ],
   "source": [
    "sc.stop()\n",
    "from pyspark import SparkConf, SparkContext\n",
    "from pyspark.sql import SparkSession\n",
    "from pyspark.sql.functions import udf\n",
    "from pyspark.sql.types import IntegerType\n",
    "\n",
    "conf = SparkConf().setAppName(\"202-f\")\\\n",
    "                  .setMaster(\"spark://10.120.26.200:7077\")\\\n",
    "                  .set(\"spark.executor.memory\", '6g')\\\n",
    "                  .set('spark.cores.max', '4')\n",
    "\n",
    "sc = SparkContext(conf=conf)\n",
    "spark = SparkSession.builder.appName('sql coming~').getOrCreate()"
   ]
  },
  {
   "cell_type": "code",
   "execution_count": 26,
   "metadata": {},
   "outputs": [
    {
     "data": {
      "application/vnd.jupyter.widget-view+json": {
       "model_id": "",
       "version_major": 2,
       "version_minor": 0
      },
      "text/plain": [
       "FloatProgress(value=0.0, bar_style='info', description='Progress:', layout=Layout(height='25px', width='50%'),…"
      ]
     },
     "metadata": {},
     "output_type": "display_data"
    }
   ],
   "source": [
    "from pyspark.sql.functions import *\n",
    "from pyspark.sql.types import *\n",
    "from geoip2.database import Reader\n",
    "\n",
    "def ip2city_py(ip):\n",
    "    global reader\n",
    "    if reader is None:\n",
    "        # assume all work nodes have mmdb installed in the following path\n",
    "        reader = Reader(\"/home/spark/spark-2.4.6-bin-hadoop2.7/maxmind/GeoLite2-City.mmdb\")\n",
    "    try:\n",
    "        response = reader.city(ip)\n",
    "        city = response.city.name\n",
    "        if city is None:\n",
    "            return None\n",
    "        return city\n",
    "\n",
    "    except:\n",
    "        return None"
   ]
  },
  {
   "cell_type": "code",
   "execution_count": 27,
   "metadata": {},
   "outputs": [
    {
     "data": {
      "application/vnd.jupyter.widget-view+json": {
       "model_id": "",
       "version_major": 2,
       "version_minor": 0
      },
      "text/plain": [
       "FloatProgress(value=0.0, bar_style='info', description='Progress:', layout=Layout(height='25px', width='50%'),…"
      ]
     },
     "metadata": {},
     "output_type": "display_data"
    },
    {
     "name": "stdout",
     "output_type": "stream",
     "text": [
      "<function ip2city_py at 0x7f142d05de60>"
     ]
    }
   ],
   "source": [
    "ip2city= udf(ip2city_py, StringType())\n",
    "ip2city"
   ]
  },
  {
   "cell_type": "code",
   "execution_count": 28,
   "metadata": {},
   "outputs": [
    {
     "data": {
      "application/vnd.jupyter.widget-view+json": {
       "model_id": "",
       "version_major": 2,
       "version_minor": 0
      },
      "text/plain": [
       "FloatProgress(value=0.0, bar_style='info', description='Progress:', layout=Layout(height='25px', width='50%'),…"
      ]
     },
     "metadata": {},
     "output_type": "display_data"
    },
    {
     "name": "stdout",
     "output_type": "stream",
     "text": [
      "+-------------------+------+---------------+---------------+----------+-------+------+-------+\n",
      "|            logtime|userid|             ip|           page|       ref|     os|os_ver|  agent|\n",
      "+-------------------+------+---------------+---------------+----------+-------+------+-------+\n",
      "|08/05/2013 16:02:10|    21|  112.99.95.101|     DetailPage|Google.com|   Win8|     2| iPhone|\n",
      "|08/05/2013 16:02:10|    34|  88.133.108.54|   ShoppingCart|Google.com|    Web|     4|    IE9|\n",
      "|08/05/2013 16:02:10|    69|  126.147.94.49|     Appliances|Google.com|Android|     3|Samsung|\n",
      "|08/05/2013 16:02:10|    10|   178.4.56.132|     SearchPage|Google.com|   Win8|     5| iPhone|\n",
      "|08/05/2013 16:02:10|    55|  219.177.73.55|Recommendations|Google.com|   Win8|     3|    HTC|\n",
      "|08/05/2013 16:02:10|    81|  71.67.178.110|     Appliances|Google.com|Android|     3| iPhone|\n",
      "|08/05/2013 16:02:10|     9|  66.154.62.103|       HomePage|Google.com|    iOS|     3|    HTC|\n",
      "|08/05/2013 16:02:10|    45| 121.158.57.158|     DetailPage|Google.com|   Win8|     2|    HTC|\n",
      "|08/05/2013 16:02:10|    89| 169.214.130.84|     Appliances|Google.com|   Win8|     4| iPhone|\n",
      "|08/05/2013 16:02:10|    30| 109.193.95.125|       HomePage|Google.com|Android|     2| iPhone|\n",
      "|08/05/2013 16:02:10|    52| 122.114.243.80|     DetailPage|Google.com|Android|     3|    HTC|\n",
      "|08/05/2013 16:02:10|    36|  217.72.164.26|       HomePage|Google.com|   Win8|     4|Samsung|\n",
      "|08/05/2013 16:02:10|    20|   33.174.60.75|       Sporting|Google.com|Android|     5| iPhone|\n",
      "|08/05/2013 16:02:10|    60|234.149.180.145|     DetailPage|Google.com|    Web|     3|    IE8|\n",
      "|08/05/2013 16:02:10|     5|   80.208.64.66|     Appliances|Google.com|    Web|     5| Chrome|\n",
      "|08/05/2013 16:02:10|    27| 103.68.159.125|     Automotive|Google.com|    Web|     2| Chrome|\n",
      "|08/05/2013 16:02:10|    58|  95.154.142.84|     SearchPage|Google.com|   Win8|     5| iPhone|\n",
      "|08/05/2013 16:02:11|    61|102.127.105.123|     DetailPage|Google.com|   Win8|     2|Samsung|\n",
      "|08/05/2013 16:02:11|     6| 126.162.170.61|     Appliances|Google.com|   Win8|     3|    HTC|\n",
      "|08/05/2013 16:02:11|    76|  111.158.87.54|   ShoppingCart|Google.com|    Web|     2| Chrome|\n",
      "+-------------------+------+---------------+---------------+----------+-------+------+-------+\n",
      "only showing top 20 rows"
     ]
    }
   ],
   "source": [
    "page_view = spark.read.csv(\"hdfs://10.120.26.200/user/spark/spark_sql_101/page_views/data\",sep=\"\\t\",schema=\"logtime STRING, userid INT, ip STRING, page STRING, ref STRING, os STRING, os_ver STRING, agent STRING\")\n",
    "page_view.show()"
   ]
  },
  {
   "cell_type": "code",
   "execution_count": 30,
   "metadata": {},
   "outputs": [
    {
     "data": {
      "application/vnd.jupyter.widget-view+json": {
       "model_id": "",
       "version_major": 2,
       "version_minor": 0
      },
      "text/plain": [
       "FloatProgress(value=0.0, bar_style='info', description='Progress:', layout=Layout(height='25px', width='50%'),…"
      ]
     },
     "metadata": {},
     "output_type": "display_data"
    }
   ],
   "source": [
    "page_view_city = page_view.withColumn(\"city\", ip2city(\"ip\"))"
   ]
  },
  {
   "cell_type": "code",
   "execution_count": 31,
   "metadata": {},
   "outputs": [
    {
     "data": {
      "application/vnd.jupyter.widget-view+json": {
       "model_id": "",
       "version_major": 2,
       "version_minor": 0
      },
      "text/plain": [
       "FloatProgress(value=0.0, bar_style='info', description='Progress:', layout=Layout(height='25px', width='50%'),…"
      ]
     },
     "metadata": {},
     "output_type": "display_data"
    }
   ],
   "source": [
    "stats_by_city_sorted = page_view_city.fillna(\"unknown\", subset=[\"city\"]) \\\n",
    "                                         .groupBy(col(\"city\")) \\\n",
    "                                         .agg(count(\"*\").alias(\"records\"), countDistinct(\"userid\").alias(\"UU\")) \\\n",
    "                                         .orderBy(col(\"records\").desc())"
   ]
  },
  {
   "cell_type": "code",
   "execution_count": null,
   "metadata": {},
   "outputs": [],
   "source": []
  }
 ],
 "metadata": {
  "kernelspec": {
   "display_name": "Python 3.7.4 64-bit ('stock': pipenv)",
   "language": "",
   "name": "python_defaultSpec_1598849525677"
  },
  "language_info": {
   "codemirror_mode": {
    "name": "python",
    "version": 3
   },
   "mimetype": "text/x-python",
   "name": "pyspark",
   "pygments_lexer": "python3",
   "version": "3.7.4-final"
  }
 },
 "nbformat": 4,
 "nbformat_minor": 2
}