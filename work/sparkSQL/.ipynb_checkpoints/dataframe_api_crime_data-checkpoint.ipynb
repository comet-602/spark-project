{
 "cells": [
  {
   "cell_type": "code",
   "execution_count": 1,
   "metadata": {},
   "outputs": [
    {
     "name": "stdout",
     "output_type": "stream",
     "text": [
      "Starting Spark application\n"
     ]
    },
    {
     "data": {
      "text/html": [
       "<table>\n",
       "<tr><th>ID</th><th>YARN Application ID</th><th>Kind</th><th>State</th><th>Spark UI</th><th>Driver log</th><th>Current session?</th></tr><tr><td>49</td><td>None</td><td>pyspark</td><td>idle</td><td></td><td></td><td>✔</td></tr></table>"
      ],
      "text/plain": [
       "<IPython.core.display.HTML object>"
      ]
     },
     "metadata": {},
     "output_type": "display_data"
    },
    {
     "data": {
      "application/vnd.jupyter.widget-view+json": {
       "model_id": "",
       "version_major": 2,
       "version_minor": 0
      },
      "text/plain": [
       "FloatProgress(value=0.0, bar_style='info', description='Progress:', layout=Layout(height='25px', width='50%'),…"
      ]
     },
     "metadata": {},
     "output_type": "display_data"
    },
    {
     "name": "stdout",
     "output_type": "stream",
     "text": [
      "SparkSession available as 'spark'.\n"
     ]
    },
    {
     "data": {
      "application/vnd.jupyter.widget-view+json": {
       "model_id": "",
       "version_major": 2,
       "version_minor": 0
      },
      "text/plain": [
       "FloatProgress(value=0.0, bar_style='info', description='Progress:', layout=Layout(height='25px', width='50%'),…"
      ]
     },
     "metadata": {},
     "output_type": "display_data"
    }
   ],
   "source": [
    "sc.stop()"
   ]
  },
  {
   "cell_type": "code",
   "execution_count": 2,
   "metadata": {},
   "outputs": [
    {
     "data": {
      "application/vnd.jupyter.widget-view+json": {
       "model_id": "",
       "version_major": 2,
       "version_minor": 0
      },
      "text/plain": [
       "FloatProgress(value=0.0, bar_style='info', description='Progress:', layout=Layout(height='25px', width='50%'),…"
      ]
     },
     "metadata": {},
     "output_type": "display_data"
    }
   ],
   "source": [
    "from pyspark import SparkConf, SparkContext\n",
    "from pyspark.sql import SparkSession\n",
    "from pyspark.sql.functions import *\n",
    "\n",
    "conf = SparkConf().setAppName(\"202\")\\\n",
    "                  .setMaster(\"spark://10.120.26.200:7077\")\\\n",
    "                  .set(\"spark.executor.memory\", '6g')\\\n",
    "                  .set('spark.cores.max', '4')\n",
    "\n",
    "sc = SparkContext(conf=conf)\n",
    "spark = SparkSession.builder.appName('crime data').getOrCreate()"
   ]
  },
  {
   "cell_type": "code",
   "execution_count": 4,
   "metadata": {},
   "outputs": [
    {
     "data": {
      "application/vnd.jupyter.widget-view+json": {
       "model_id": "",
       "version_major": 2,
       "version_minor": 0
      },
      "text/plain": [
       "FloatProgress(value=0.0, bar_style='info', description='Progress:', layout=Layout(height='25px', width='50%'),…"
      ]
     },
     "metadata": {},
     "output_type": "display_data"
    },
    {
     "name": "stdout",
     "output_type": "stream",
     "text": [
      "+---------+--------------------+--------------------+--------------------+-----+----+-----+\n",
      "|lsoa_code|             borough|      major_category|      minor_category|value|year|month|\n",
      "+---------+--------------------+--------------------+--------------------+-----+----+-----+\n",
      "|E01004563|          Wandsworth|             Robbery|   Personal Property|    0|2008|    6|\n",
      "|E01003496|              Newham|     Criminal Damage|Criminal Damage T...|    0|2013|    9|\n",
      "|E01000086|Barking and Dagenham|  Theft and Handling|  Other Theft Person|    1|2009|    5|\n",
      "|E01001317|              Ealing|            Burglary|Burglary in a Dwe...|    0|2013|    9|\n",
      "|E01000713|             Bromley|Violence Against ...|    Offensive Weapon|    0|2009|   12|\n",
      "|E01000606|               Brent|  Theft and Handling|Motor Vehicle Int...|    0|2015|    9|\n",
      "|E01003211|            Lewisham|  Theft and Handling|  Other Theft Person|    0|2009|   12|\n",
      "|E01003902|Richmond upon Thames|     Criminal Damage|Criminal Damage T...|    0|2013|    3|\n",
      "|E01003264|            Lewisham|Other Notifiable ...|    Other Notifiable|    0|2008|    6|\n",
      "|E01000233|              Barnet|             Robbery|   Business Property|    0|2013|    6|\n",
      "|E01003311|            Lewisham|            Burglary|Burglary in Other...|    0|2014|    2|\n",
      "|E01000098|Barking and Dagenham|            Burglary|Burglary in Other...|    0|2013|    4|\n",
      "|E01000039|Barking and Dagenham|Violence Against ...|          Harassment|    0|2012|   12|\n",
      "|E01000228|              Barnet|               Drugs| Possession Of Drugs|    0|2011|   10|\n",
      "|E01003849|Richmond upon Thames|  Theft and Handling|Theft From Motor ...|    1|2011|    8|\n",
      "|E01003918|           Southwark|     Criminal Damage|Other Criminal Da...|    0|2011|    1|\n",
      "|E01004298|       Tower Hamlets|            Burglary|Burglary in a Dwe...|    0|2016|    3|\n",
      "|E01003862|Richmond upon Thames|Violence Against ...|      Common Assault|    0|2015|    3|\n",
      "|E01000705|             Bromley|     Criminal Damage|Other Criminal Da...|    0|2013|    4|\n",
      "|E01004642|          Wandsworth|               Drugs| Possession Of Drugs|    1|2008|    6|\n",
      "+---------+--------------------+--------------------+--------------------+-----+----+-----+\n",
      "only showing top 20 rows"
     ]
    }
   ],
   "source": [
    "data = spark.read.csv(header=True, path=\"hdfs://10.120.26.200/user/spark/spark_sql_101/crime/data/\")\n",
    "data.show()"
   ]
  },
  {
   "cell_type": "code",
   "execution_count": 5,
   "metadata": {},
   "outputs": [
    {
     "data": {
      "application/vnd.jupyter.widget-view+json": {
       "model_id": "",
       "version_major": 2,
       "version_minor": 0
      },
      "text/plain": [
       "FloatProgress(value=0.0, bar_style='info', description='Progress:', layout=Layout(height='25px', width='50%'),…"
      ]
     },
     "metadata": {},
     "output_type": "display_data"
    },
    {
     "name": "stdout",
     "output_type": "stream",
     "text": [
      "root\n",
      " |-- lsoa_code: string (nullable = true)\n",
      " |-- borough: string (nullable = true)\n",
      " |-- major_category: string (nullable = true)\n",
      " |-- minor_category: string (nullable = true)\n",
      " |-- value: string (nullable = true)\n",
      " |-- year: string (nullable = true)\n",
      " |-- month: string (nullable = true)"
     ]
    }
   ],
   "source": [
    "data.printSchema()"
   ]
  },
  {
   "cell_type": "code",
   "execution_count": 7,
   "metadata": {},
   "outputs": [
    {
     "data": {
      "application/vnd.jupyter.widget-view+json": {
       "model_id": "",
       "version_major": 2,
       "version_minor": 0
      },
      "text/plain": [
       "FloatProgress(value=0.0, bar_style='info', description='Progress:', layout=Layout(height='25px', width='50%'),…"
      ]
     },
     "metadata": {},
     "output_type": "display_data"
    },
    {
     "name": "stdout",
     "output_type": "stream",
     "text": [
      "+--------------------+--------------------+--------------------+-----+----+-----+\n",
      "|             borough|      major_category|      minor_category|value|year|month|\n",
      "+--------------------+--------------------+--------------------+-----+----+-----+\n",
      "|               Brent|  Theft and Handling|Motor Vehicle Int...|    0|2015|    9|\n",
      "|       Tower Hamlets|            Burglary|Burglary in a Dwe...|    0|2016|    3|\n",
      "|Richmond upon Thames|Violence Against ...|      Common Assault|    0|2015|    3|\n",
      "|               Brent|  Theft and Handling|Theft/Taking of P...|    0|2015|    1|\n",
      "|           Redbridge|            Burglary|Burglary in Other...|    0|2015|    2|\n",
      "|             Bromley|     Criminal Damage|Criminal Damage T...|    0|2015|    9|\n",
      "|          Hillingdon|Violence Against ...|        Wounding/GBH|    1|2015|    6|\n",
      "|              Ealing|  Theft and Handling|  Other Theft Person|    0|2015|    8|\n",
      "|           Greenwich|     Criminal Damage|Criminal Damage T...|    0|2015|    1|\n",
      "|           Redbridge|Other Notifiable ...|      Going Equipped|    0|2015|    9|\n",
      "|            Havering|Violence Against ...|    Offensive Weapon|    0|2016|   11|\n",
      "|           Greenwich|     Criminal Damage|Criminal Damage T...|    0|2016|   10|\n",
      "|               Brent|            Burglary|Burglary in a Dwe...|    0|2016|    1|\n",
      "|           Southwark|  Theft and Handling|Theft From Motor ...|    0|2015|   11|\n",
      "|            Haringey|Violence Against ...| Assault with Injury|    2|2015|    3|\n",
      "|              Barnet|Violence Against ...|          Harassment|    1|2016|    3|\n",
      "|            Lewisham|               Drugs| Possession Of Drugs|    0|2015|    5|\n",
      "|            Lewisham|  Theft and Handling|Handling Stolen G...|    0|2016|    7|\n",
      "|            Havering|  Theft and Handling|    Theft From Shops|    0|2015|    8|\n",
      "|             Croydon|  Theft and Handling|Motor Vehicle Int...|    0|2015|   10|\n",
      "+--------------------+--------------------+--------------------+-----+----+-----+\n",
      "only showing top 20 rows"
     ]
    }
   ],
   "source": [
    "crime_2015_6 = data.filter(\"year >= 2015\").drop(\"lsoa_code\")\n",
    "crime_2015_6.show()"
   ]
  },
  {
   "cell_type": "code",
   "execution_count": 8,
   "metadata": {},
   "outputs": [
    {
     "data": {
      "application/vnd.jupyter.widget-view+json": {
       "model_id": "",
       "version_major": 2,
       "version_minor": 0
      },
      "text/plain": [
       "FloatProgress(value=0.0, bar_style='info', description='Progress:', layout=Layout(height='25px', width='50%'),…"
      ]
     },
     "metadata": {},
     "output_type": "display_data"
    },
    {
     "name": "stdout",
     "output_type": "stream",
     "text": [
      "+--------------------+----------+\n",
      "|             borough|sum(value)|\n",
      "+--------------------+----------+\n",
      "|             Croydon|    5669.0|\n",
      "|          Wandsworth|    4791.0|\n",
      "|              Bexley|    2513.0|\n",
      "|             Lambeth|    6837.0|\n",
      "|Barking and Dagenham|    3310.0|\n",
      "|              Camden|    5790.0|\n",
      "|           Greenwich|    4413.0|\n",
      "|              Newham|    5807.0|\n",
      "|       Tower Hamlets|    5855.0|\n",
      "|              Barnet|    4960.0|\n",
      "|            Hounslow|    4311.0|\n",
      "|              Harrow|    2552.0|\n",
      "|Kensington and Ch...|    3973.0|\n",
      "|           Islington|    5541.0|\n",
      "|               Brent|    5327.0|\n",
      "|            Haringey|    5194.0|\n",
      "|             Bromley|    3978.0|\n",
      "|              Merton|    2336.0|\n",
      "|         Westminster|    9391.0|\n",
      "|           Southwark|    6284.0|\n",
      "+--------------------+----------+\n",
      "only showing top 20 rows"
     ]
    }
   ],
   "source": [
    "convictions_by_borough = crime_2015_6.groupBy(\"borough\").agg({\"value\": \"sum\"})\n",
    "convictions_by_borough.show()"
   ]
  },
  {
   "cell_type": "code",
   "execution_count": 11,
   "metadata": {},
   "outputs": [
    {
     "data": {
      "application/vnd.jupyter.widget-view+json": {
       "model_id": "",
       "version_major": 2,
       "version_minor": 0
      },
      "text/plain": [
       "FloatProgress(value=0.0, bar_style='info', description='Progress:', layout=Layout(height='25px', width='50%'),…"
      ]
     },
     "metadata": {},
     "output_type": "display_data"
    },
    {
     "name": "stdout",
     "output_type": "stream",
     "text": [
      "+--------------------+------------------+\n",
      "|             borough|num_of_convictions|\n",
      "+--------------------+------------------+\n",
      "|             Croydon|            5669.0|\n",
      "|          Wandsworth|            4791.0|\n",
      "|              Bexley|            2513.0|\n",
      "|             Lambeth|            6837.0|\n",
      "|Barking and Dagenham|            3310.0|\n",
      "|              Camden|            5790.0|\n",
      "|           Greenwich|            4413.0|\n",
      "|              Newham|            5807.0|\n",
      "|       Tower Hamlets|            5855.0|\n",
      "|              Barnet|            4960.0|\n",
      "|            Hounslow|            4311.0|\n",
      "|              Harrow|            2552.0|\n",
      "|Kensington and Ch...|            3973.0|\n",
      "|           Islington|            5541.0|\n",
      "|               Brent|            5327.0|\n",
      "|            Haringey|            5194.0|\n",
      "|             Bromley|            3978.0|\n",
      "|              Merton|            2336.0|\n",
      "|         Westminster|            9391.0|\n",
      "|           Southwark|            6284.0|\n",
      "+--------------------+------------------+\n",
      "only showing top 20 rows"
     ]
    }
   ],
   "source": [
    "convictions_by_borough = convictions_by_borough.withColumnRenamed(\"sum(value)\", \"num_of_convictions\")\n",
    "convictions_by_borough.show()"
   ]
  },
  {
   "cell_type": "code",
   "execution_count": 16,
   "metadata": {},
   "outputs": [
    {
     "data": {
      "application/vnd.jupyter.widget-view+json": {
       "model_id": "",
       "version_major": 2,
       "version_minor": 0
      },
      "text/plain": [
       "FloatProgress(value=0.0, bar_style='info', description='Progress:', layout=Layout(height='25px', width='50%'),…"
      ]
     },
     "metadata": {},
     "output_type": "display_data"
    },
    {
     "name": "stdout",
     "output_type": "stream",
     "text": [
      "+-----------------------+\n",
      "|sum(num_of_convictions)|\n",
      "+-----------------------+\n",
      "|               145999.0|\n",
      "+-----------------------+"
     ]
    }
   ],
   "source": [
    "total_convictions = convictions_by_borough.agg({\"num_of_convictions\": \"sum\"})\n",
    "total_convictions.show()"
   ]
  },
  {
   "cell_type": "code",
   "execution_count": 20,
   "metadata": {},
   "outputs": [
    {
     "data": {
      "application/vnd.jupyter.widget-view+json": {
       "model_id": "",
       "version_major": 2,
       "version_minor": 0
      },
      "text/plain": [
       "FloatProgress(value=0.0, bar_style='info', description='Progress:', layout=Layout(height='25px', width='50%'),…"
      ]
     },
     "metadata": {},
     "output_type": "display_data"
    },
    {
     "name": "stdout",
     "output_type": "stream",
     "text": [
      "145999.0"
     ]
    }
   ],
   "source": [
    "total_convictions.collect()[0][0]"
   ]
  },
  {
   "cell_type": "code",
   "execution_count": 24,
   "metadata": {},
   "outputs": [
    {
     "data": {
      "application/vnd.jupyter.widget-view+json": {
       "model_id": "",
       "version_major": 2,
       "version_minor": 0
      },
      "text/plain": [
       "FloatProgress(value=0.0, bar_style='info', description='Progress:', layout=Layout(height='25px', width='50%'),…"
      ]
     },
     "metadata": {},
     "output_type": "display_data"
    },
    {
     "name": "stdout",
     "output_type": "stream",
     "text": [
      "145999.0"
     ]
    }
   ],
   "source": [
    "total_convictions = convictions_by_borough.agg({\"num_of_convictions\": \"sum\"}).collect()[0][0]\n",
    "total_convictions"
   ]
  },
  {
   "cell_type": "code",
   "execution_count": 26,
   "metadata": {},
   "outputs": [
    {
     "data": {
      "application/vnd.jupyter.widget-view+json": {
       "model_id": "",
       "version_major": 2,
       "version_minor": 0
      },
      "text/plain": [
       "FloatProgress(value=0.0, bar_style='info', description='Progress:', layout=Layout(height='25px', width='50%'),…"
      ]
     },
     "metadata": {},
     "output_type": "display_data"
    },
    {
     "name": "stdout",
     "output_type": "stream",
     "text": [
      "DataFrame[borough: string, num_of_convictions: double, % of total convictions: string]"
     ]
    }
   ],
   "source": [
    "convictions_by_borough_with_percentage = convictions_by_borough.withColumn(\"% of total convictions\",\n",
    "                            format_number(convictions_by_borough[\"num_of_convictions\"] / total_convictions * 100, 2))"
   ]
  },
  {
   "cell_type": "code",
   "execution_count": 27,
   "metadata": {},
   "outputs": [
    {
     "data": {
      "application/vnd.jupyter.widget-view+json": {
       "model_id": "",
       "version_major": 2,
       "version_minor": 0
      },
      "text/plain": [
       "FloatProgress(value=0.0, bar_style='info', description='Progress:', layout=Layout(height='25px', width='50%'),…"
      ]
     },
     "metadata": {},
     "output_type": "display_data"
    },
    {
     "name": "stdout",
     "output_type": "stream",
     "text": [
      "+--------------------+------------------+----------------------+\n",
      "|             borough|num_of_convictions|% of total convictions|\n",
      "+--------------------+------------------+----------------------+\n",
      "|             Croydon|            5669.0|                  3.88|\n",
      "|          Wandsworth|            4791.0|                  3.28|\n",
      "|              Bexley|            2513.0|                  1.72|\n",
      "|             Lambeth|            6837.0|                  4.68|\n",
      "|Barking and Dagenham|            3310.0|                  2.27|\n",
      "|              Camden|            5790.0|                  3.97|\n",
      "|           Greenwich|            4413.0|                  3.02|\n",
      "|              Newham|            5807.0|                  3.98|\n",
      "|       Tower Hamlets|            5855.0|                  4.01|\n",
      "|              Barnet|            4960.0|                  3.40|\n",
      "|            Hounslow|            4311.0|                  2.95|\n",
      "|              Harrow|            2552.0|                  1.75|\n",
      "|Kensington and Ch...|            3973.0|                  2.72|\n",
      "|           Islington|            5541.0|                  3.80|\n",
      "|               Brent|            5327.0|                  3.65|\n",
      "|            Haringey|            5194.0|                  3.56|\n",
      "|             Bromley|            3978.0|                  2.72|\n",
      "|              Merton|            2336.0|                  1.60|\n",
      "|         Westminster|            9391.0|                  6.43|\n",
      "|           Southwark|            6284.0|                  4.30|\n",
      "+--------------------+------------------+----------------------+\n",
      "only showing top 20 rows"
     ]
    }
   ],
   "source": [
    "convictions_by_borough_with_percentage.show()"
   ]
  },
  {
   "cell_type": "code",
   "execution_count": null,
   "metadata": {},
   "outputs": [],
   "source": []
  }
 ],
 "metadata": {
  "kernelspec": {
   "display_name": "PySpark",
   "language": "",
   "name": "pysparkkernel"
  },
  "language_info": {
   "codemirror_mode": {
    "name": "python",
    "version": 3
   },
   "mimetype": "text/x-python",
   "name": "pyspark",
   "pygments_lexer": "python3"
  }
 },
 "nbformat": 4,
 "nbformat_minor": 2
}
