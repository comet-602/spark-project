{
 "cells": [
  {
   "cell_type": "code",
   "execution_count": 1,
   "metadata": {},
   "outputs": [
    {
     "name": "stdout",
     "output_type": "stream",
     "text": [
      "Starting Spark application\n"
     ]
    },
    {
     "data": {
      "text/html": [
       "<table>\n",
       "<tr><th>ID</th><th>YARN Application ID</th><th>Kind</th><th>State</th><th>Spark UI</th><th>Driver log</th><th>Current session?</th></tr><tr><td>22</td><td>None</td><td>pyspark</td><td>idle</td><td></td><td></td><td>✔</td></tr></table>"
      ],
      "text/plain": [
       "<IPython.core.display.HTML object>"
      ]
     },
     "metadata": {},
     "output_type": "display_data"
    },
    {
     "data": {
      "application/vnd.jupyter.widget-view+json": {
       "model_id": "",
       "version_major": 2,
       "version_minor": 0
      },
      "text/plain": [
       "FloatProgress(value=0.0, bar_style='info', description='Progress:', layout=Layout(height='25px', width='50%'),…"
      ]
     },
     "metadata": {},
     "output_type": "display_data"
    },
    {
     "name": "stdout",
     "output_type": "stream",
     "text": [
      "SparkSession available as 'spark'.\n"
     ]
    },
    {
     "data": {
      "application/vnd.jupyter.widget-view+json": {
       "model_id": "",
       "version_major": 2,
       "version_minor": 0
      },
      "text/plain": [
       "FloatProgress(value=0.0, bar_style='info', description='Progress:', layout=Layout(height='25px', width='50%'),…"
      ]
     },
     "metadata": {},
     "output_type": "display_data"
    }
   ],
   "source": [
    "sc.stop()"
   ]
  },
  {
   "cell_type": "code",
   "execution_count": 2,
   "metadata": {},
   "outputs": [
    {
     "data": {
      "application/vnd.jupyter.widget-view+json": {
       "model_id": "",
       "version_major": 2,
       "version_minor": 0
      },
      "text/plain": [
       "FloatProgress(value=0.0, bar_style='info', description='Progress:', layout=Layout(height='25px', width='50%'),…"
      ]
     },
     "metadata": {},
     "output_type": "display_data"
    },
    {
     "name": "stdout",
     "output_type": "stream",
     "text": [
      "<SparkContext master=spark://10.120.26.200:7077 appName=SQL~>"
     ]
    }
   ],
   "source": [
    "from pyspark import SparkConf, SparkContext\n",
    "conf = SparkConf().setAppName(\"SQL~\")\\\n",
    "                  .setMaster(\"spark://10.120.26.200:7077\")\\\n",
    "                  .set(\"spark.executor.memory\", '2g')\\\n",
    "                  .set('spark.cores.max', '2')\n",
    "sc = SparkContext(conf=conf)\n",
    "sc"
   ]
  },
  {
   "cell_type": "code",
   "execution_count": 3,
   "metadata": {},
   "outputs": [
    {
     "data": {
      "application/vnd.jupyter.widget-view+json": {
       "model_id": "",
       "version_major": 2,
       "version_minor": 0
      },
      "text/plain": [
       "FloatProgress(value=0.0, bar_style='info', description='Progress:', layout=Layout(height='25px', width='50%'),…"
      ]
     },
     "metadata": {},
     "output_type": "display_data"
    },
    {
     "name": "stdout",
     "output_type": "stream",
     "text": [
      "<pyspark.sql.session.SparkSession object at 0x7f4d088ba250>"
     ]
    }
   ],
   "source": [
    "from pyspark.sql import SparkSession\n",
    "spark = SparkSession.builder.appName('sql coming~').getOrCreate()\n",
    "spark"
   ]
  },
  {
   "cell_type": "code",
   "execution_count": 4,
   "metadata": {},
   "outputs": [
    {
     "data": {
      "application/vnd.jupyter.widget-view+json": {
       "model_id": "",
       "version_major": 2,
       "version_minor": 0
      },
      "text/plain": [
       "FloatProgress(value=0.0, bar_style='info', description='Progress:', layout=Layout(height='25px', width='50%'),…"
      ]
     },
     "metadata": {},
     "output_type": "display_data"
    }
   ],
   "source": [
    "# Create a DataFrame from a CSV file without header\n",
    "stocks_df = spark.read.csv(\"hdfs://10.120.26.200/user/spark/spark_sql_101/data/stocks.txt\")"
   ]
  },
  {
   "cell_type": "code",
   "execution_count": 5,
   "metadata": {},
   "outputs": [
    {
     "data": {
      "application/vnd.jupyter.widget-view+json": {
       "model_id": "",
       "version_major": 2,
       "version_minor": 0
      },
      "text/plain": [
       "FloatProgress(value=0.0, bar_style='info', description='Progress:', layout=Layout(height='25px', width='50%'),…"
      ]
     },
     "metadata": {},
     "output_type": "display_data"
    },
    {
     "name": "stdout",
     "output_type": "stream",
     "text": [
      "root\n",
      " |-- _c0: string (nullable = true)\n",
      " |-- _c1: string (nullable = true)\n",
      " |-- _c2: string (nullable = true)\n",
      " |-- _c3: string (nullable = true)\n",
      " |-- _c4: string (nullable = true)\n",
      " |-- _c5: string (nullable = true)\n",
      " |-- _c6: string (nullable = true)\n",
      " |-- _c7: string (nullable = true)"
     ]
    }
   ],
   "source": [
    "#  Print the schema in a tree format\n",
    "stocks_df.printSchema()"
   ]
  },
  {
   "cell_type": "code",
   "execution_count": 6,
   "metadata": {},
   "outputs": [
    {
     "data": {
      "application/vnd.jupyter.widget-view+json": {
       "model_id": "",
       "version_major": 2,
       "version_minor": 0
      },
      "text/plain": [
       "FloatProgress(value=0.0, bar_style='info', description='Progress:', layout=Layout(height='25px', width='50%'),…"
      ]
     },
     "metadata": {},
     "output_type": "display_data"
    },
    {
     "name": "stdout",
     "output_type": "stream",
     "text": [
      "+----+----------+------+------+------+------+--------+------+\n",
      "| _c0|       _c1|   _c2|   _c3|   _c4|   _c5|     _c6|   _c7|\n",
      "+----+----------+------+------+------+------+--------+------+\n",
      "|AAPL|2009-01-02| 85.88| 91.04| 85.16| 90.75|26643400| 90.75|\n",
      "|AAPL|2008-01-02|199.27|200.26|192.55|194.84|38542100|194.84|\n",
      "|AAPL|2007-01-03| 86.29| 86.58| 81.90| 83.80|44225700| 83.80|\n",
      "|AAPL|2006-01-03| 72.38| 74.75| 72.25| 74.75|28829800| 74.75|\n",
      "|AAPL|2005-01-03| 64.78| 65.11| 62.60| 63.29|24714000| 31.65|\n",
      "|AAPL|2004-01-02| 21.55| 21.75| 21.18| 21.28| 5165800| 10.64|\n",
      "|AAPL|2003-01-02| 14.36| 14.92| 14.35| 14.80| 6479600|  7.40|\n",
      "|AAPL|2002-01-02| 22.05| 23.30| 21.96| 23.30|18910600| 11.65|\n",
      "|AAPL|2001-01-02| 14.88| 15.25| 14.56| 14.88|16161800|  7.44|\n",
      "|AAPL|2000-01-03|104.87|112.50|101.69|111.94|19144400| 27.99|\n",
      "|CSCO|2009-01-02| 16.41| 17.00| 16.25| 16.96|40980600| 16.96|\n",
      "|CSCO|2008-01-02| 27.00| 27.30| 26.21| 26.54|64338900| 26.54|\n",
      "|CSCO|2007-01-03| 27.46| 27.98| 27.33| 27.73|64226000| 27.73|\n",
      "|CSCO|2006-01-03| 17.21| 17.49| 17.18| 17.45|55426000| 17.45|\n",
      "|CSCO|2005-01-03| 19.42| 19.61| 19.27| 19.32|56725600| 19.32|\n",
      "|CSCO|2004-01-02| 24.36| 24.53| 24.16| 24.25|29955800| 24.25|\n",
      "|CSCO|2003-01-02| 13.11| 13.69| 13.09| 13.64|61335700| 13.64|\n",
      "|CSCO|2002-01-02| 18.44| 19.30| 18.26| 19.23|55376900| 19.23|\n",
      "|CSCO|2001-01-02| 38.13| 38.50| 32.63| 33.31|17384600| 33.31|\n",
      "|CSCO|2000-01-03|109.94|110.25|103.56|108.06|53076000| 54.03|\n",
      "+----+----------+------+------+------+------+--------+------+\n",
      "only showing top 20 rows"
     ]
    }
   ],
   "source": [
    "#  Displays the content of the DataFrame to stdout，\n",
    "stocks_df.show()"
   ]
  },
  {
   "cell_type": "code",
   "execution_count": 8,
   "metadata": {},
   "outputs": [
    {
     "data": {
      "application/vnd.jupyter.widget-view+json": {
       "model_id": "",
       "version_major": 2,
       "version_minor": 0
      },
      "text/plain": [
       "FloatProgress(value=0.0, bar_style='info', description='Progress:', layout=Layout(height='25px', width='50%'),…"
      ]
     },
     "metadata": {},
     "output_type": "display_data"
    }
   ],
   "source": [
    "# Create a DataFrame from a CSV file with header\n",
    "stocks_df2 = spark.read.csv(\"hdfs://10.120.26.200/user/spark/spark_sql_101/data/stocks_header.txt\", header=True)"
   ]
  },
  {
   "cell_type": "code",
   "execution_count": 9,
   "metadata": {},
   "outputs": [
    {
     "data": {
      "application/vnd.jupyter.widget-view+json": {
       "model_id": "",
       "version_major": 2,
       "version_minor": 0
      },
      "text/plain": [
       "FloatProgress(value=0.0, bar_style='info', description='Progress:', layout=Layout(height='25px', width='50%'),…"
      ]
     },
     "metadata": {},
     "output_type": "display_data"
    },
    {
     "name": "stdout",
     "output_type": "stream",
     "text": [
      "root\n",
      " |-- symbol: string (nullable = true)\n",
      " |-- day: string (nullable = true)\n",
      " |-- open: string (nullable = true)\n",
      " |-- high: string (nullable = true)\n",
      " |-- low: string (nullable = true)\n",
      " |-- close: string (nullable = true)\n",
      " |-- volumn: string (nullable = true)\n",
      " |-- adj_close: string (nullable = true)"
     ]
    }
   ],
   "source": [
    "#  Print the schema in a tree format\n",
    "stocks_df2.printSchema()"
   ]
  },
  {
   "cell_type": "code",
   "execution_count": 10,
   "metadata": {},
   "outputs": [
    {
     "data": {
      "application/vnd.jupyter.widget-view+json": {
       "model_id": "",
       "version_major": 2,
       "version_minor": 0
      },
      "text/plain": [
       "FloatProgress(value=0.0, bar_style='info', description='Progress:', layout=Layout(height='25px', width='50%'),…"
      ]
     },
     "metadata": {},
     "output_type": "display_data"
    },
    {
     "name": "stdout",
     "output_type": "stream",
     "text": [
      "+------+----------+------+------+------+------+--------+---------+\n",
      "|symbol|       day|  open|  high|   low| close|  volumn|adj_close|\n",
      "+------+----------+------+------+------+------+--------+---------+\n",
      "|  AAPL|2009-01-02| 85.88| 91.04| 85.16| 90.75|26643400|    90.75|\n",
      "|  AAPL|2008-01-02|199.27|200.26|192.55|194.84|38542100|   194.84|\n",
      "|  AAPL|2007-01-03| 86.29| 86.58| 81.90| 83.80|44225700|    83.80|\n",
      "|  AAPL|2006-01-03| 72.38| 74.75| 72.25| 74.75|28829800|    74.75|\n",
      "|  AAPL|2005-01-03| 64.78| 65.11| 62.60| 63.29|24714000|    31.65|\n",
      "|  AAPL|2004-01-02| 21.55| 21.75| 21.18| 21.28| 5165800|    10.64|\n",
      "|  AAPL|2003-01-02| 14.36| 14.92| 14.35| 14.80| 6479600|     7.40|\n",
      "|  AAPL|2002-01-02| 22.05| 23.30| 21.96| 23.30|18910600|    11.65|\n",
      "|  AAPL|2001-01-02| 14.88| 15.25| 14.56| 14.88|16161800|     7.44|\n",
      "|  AAPL|2000-01-03|104.87|112.50|101.69|111.94|19144400|    27.99|\n",
      "|  CSCO|2009-01-02| 16.41| 17.00| 16.25| 16.96|40980600|    16.96|\n",
      "|  CSCO|2008-01-02| 27.00| 27.30| 26.21| 26.54|64338900|    26.54|\n",
      "|  CSCO|2007-01-03| 27.46| 27.98| 27.33| 27.73|64226000|    27.73|\n",
      "|  CSCO|2006-01-03| 17.21| 17.49| 17.18| 17.45|55426000|    17.45|\n",
      "|  CSCO|2005-01-03| 19.42| 19.61| 19.27| 19.32|56725600|    19.32|\n",
      "|  CSCO|2004-01-02| 24.36| 24.53| 24.16| 24.25|29955800|    24.25|\n",
      "|  CSCO|2003-01-02| 13.11| 13.69| 13.09| 13.64|61335700|    13.64|\n",
      "|  CSCO|2002-01-02| 18.44| 19.30| 18.26| 19.23|55376900|    19.23|\n",
      "|  CSCO|2001-01-02| 38.13| 38.50| 32.63| 33.31|17384600|    33.31|\n",
      "|  CSCO|2000-01-03|109.94|110.25|103.56|108.06|53076000|    54.03|\n",
      "+------+----------+------+------+------+------+--------+---------+\n",
      "only showing top 20 rows"
     ]
    }
   ],
   "source": [
    "#  Displays the content of the DataFrame to stdout\n",
    "stocks_df2.show()"
   ]
  },
  {
   "cell_type": "code",
   "execution_count": null,
   "metadata": {},
   "outputs": [],
   "source": []
  }
 ],
 "metadata": {
  "kernelspec": {
   "display_name": "PySpark",
   "language": "",
   "name": "pysparkkernel"
  },
  "language_info": {
   "codemirror_mode": {
    "name": "python",
    "version": 3
   },
   "mimetype": "text/x-python",
   "name": "pyspark",
   "pygments_lexer": "python3"
  }
 },
 "nbformat": 4,
 "nbformat_minor": 2
}
