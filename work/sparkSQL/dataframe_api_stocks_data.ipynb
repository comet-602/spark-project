{
 "cells": [
  {
   "cell_type": "code",
   "execution_count": 1,
   "metadata": {},
   "outputs": [
    {
     "name": "stdout",
     "output_type": "stream",
     "text": [
      "Starting Spark application\n"
     ]
    },
    {
     "data": {
      "text/html": [
       "<table>\n",
       "<tr><th>ID</th><th>YARN Application ID</th><th>Kind</th><th>State</th><th>Spark UI</th><th>Driver log</th><th>Current session?</th></tr><tr><td>43</td><td>None</td><td>pyspark</td><td>idle</td><td></td><td></td><td>✔</td></tr></table>"
      ],
      "text/plain": [
       "<IPython.core.display.HTML object>"
      ]
     },
     "metadata": {},
     "output_type": "display_data"
    },
    {
     "data": {
      "application/vnd.jupyter.widget-view+json": {
       "model_id": "",
       "version_major": 2,
       "version_minor": 0
      },
      "text/plain": [
       "FloatProgress(value=0.0, bar_style='info', description='Progress:', layout=Layout(height='25px', width='50%'),…"
      ]
     },
     "metadata": {},
     "output_type": "display_data"
    },
    {
     "name": "stdout",
     "output_type": "stream",
     "text": [
      "SparkSession available as 'spark'.\n"
     ]
    },
    {
     "data": {
      "application/vnd.jupyter.widget-view+json": {
       "model_id": "",
       "version_major": 2,
       "version_minor": 0
      },
      "text/plain": [
       "FloatProgress(value=0.0, bar_style='info', description='Progress:', layout=Layout(height='25px', width='50%'),…"
      ]
     },
     "metadata": {},
     "output_type": "display_data"
    }
   ],
   "source": [
    "sc.stop()\n",
    "from pyspark import SparkConf, SparkContext\n",
    "from pyspark.sql import SparkSession\n",
    "from pyspark.sql.functions import *\n",
    "\n",
    "conf = SparkConf().setAppName(\"202\")\\\n",
    "                  .setMaster(\"spark://10.120.26.200:7077\")\\\n",
    "                  .set(\"spark.executor.memory\", '6g')\\\n",
    "                  .set('spark.cores.max', '4')\n",
    "\n",
    "sc = SparkContext(conf=conf)\n",
    "spark = SparkSession.builder.appName('sql coming~').getOrCreate()"
   ]
  },
  {
   "cell_type": "code",
   "execution_count": 2,
   "metadata": {},
   "outputs": [
    {
     "data": {
      "application/vnd.jupyter.widget-view+json": {
       "model_id": "",
       "version_major": 2,
       "version_minor": 0
      },
      "text/plain": [
       "FloatProgress(value=0.0, bar_style='info', description='Progress:', layout=Layout(height='25px', width='50%'),…"
      ]
     },
     "metadata": {},
     "output_type": "display_data"
    }
   ],
   "source": [
    "df = spark.read.csv(\"hdfs://10.120.26.200/user/spark/spark_sql_101/data/stocks_header.txt\",\n",
    "                        inferSchema=True,\n",
    "                        header=True)"
   ]
  },
  {
   "cell_type": "code",
   "execution_count": 3,
   "metadata": {},
   "outputs": [
    {
     "data": {
      "application/vnd.jupyter.widget-view+json": {
       "model_id": "",
       "version_major": 2,
       "version_minor": 0
      },
      "text/plain": [
       "FloatProgress(value=0.0, bar_style='info', description='Progress:', layout=Layout(height='25px', width='50%'),…"
      ]
     },
     "metadata": {},
     "output_type": "display_data"
    },
    {
     "name": "stdout",
     "output_type": "stream",
     "text": [
      "+------+-------------------+------+------+------+------+--------+---------+\n",
      "|symbol|                day|  open|  high|   low| close|  volumn|adj_close|\n",
      "+------+-------------------+------+------+------+------+--------+---------+\n",
      "|  AAPL|2009-01-02 00:00:00| 85.88| 91.04| 85.16| 90.75|26643400|    90.75|\n",
      "|  AAPL|2008-01-02 00:00:00|199.27|200.26|192.55|194.84|38542100|   194.84|\n",
      "|  AAPL|2007-01-03 00:00:00| 86.29| 86.58|  81.9|  83.8|44225700|     83.8|\n",
      "|  AAPL|2006-01-03 00:00:00| 72.38| 74.75| 72.25| 74.75|28829800|    74.75|\n",
      "|  AAPL|2005-01-03 00:00:00| 64.78| 65.11|  62.6| 63.29|24714000|    31.65|\n",
      "|  AAPL|2004-01-02 00:00:00| 21.55| 21.75| 21.18| 21.28| 5165800|    10.64|\n",
      "|  AAPL|2003-01-02 00:00:00| 14.36| 14.92| 14.35|  14.8| 6479600|      7.4|\n",
      "|  AAPL|2002-01-02 00:00:00| 22.05|  23.3| 21.96|  23.3|18910600|    11.65|\n",
      "|  AAPL|2001-01-02 00:00:00| 14.88| 15.25| 14.56| 14.88|16161800|     7.44|\n",
      "|  AAPL|2000-01-03 00:00:00|104.87| 112.5|101.69|111.94|19144400|    27.99|\n",
      "|  CSCO|2009-01-02 00:00:00| 16.41|  17.0| 16.25| 16.96|40980600|    16.96|\n",
      "|  CSCO|2008-01-02 00:00:00|  27.0|  27.3| 26.21| 26.54|64338900|    26.54|\n",
      "|  CSCO|2007-01-03 00:00:00| 27.46| 27.98| 27.33| 27.73|64226000|    27.73|\n",
      "|  CSCO|2006-01-03 00:00:00| 17.21| 17.49| 17.18| 17.45|55426000|    17.45|\n",
      "|  CSCO|2005-01-03 00:00:00| 19.42| 19.61| 19.27| 19.32|56725600|    19.32|\n",
      "|  CSCO|2004-01-02 00:00:00| 24.36| 24.53| 24.16| 24.25|29955800|    24.25|\n",
      "|  CSCO|2003-01-02 00:00:00| 13.11| 13.69| 13.09| 13.64|61335700|    13.64|\n",
      "|  CSCO|2002-01-02 00:00:00| 18.44|  19.3| 18.26| 19.23|55376900|    19.23|\n",
      "|  CSCO|2001-01-02 00:00:00| 38.13|  38.5| 32.63| 33.31|17384600|    33.31|\n",
      "|  CSCO|2000-01-03 00:00:00|109.94|110.25|103.56|108.06|53076000|    54.03|\n",
      "+------+-------------------+------+------+------+------+--------+---------+\n",
      "only showing top 20 rows"
     ]
    }
   ],
   "source": [
    "df.show()"
   ]
  },
  {
   "cell_type": "code",
   "execution_count": 4,
   "metadata": {},
   "outputs": [
    {
     "data": {
      "application/vnd.jupyter.widget-view+json": {
       "model_id": "",
       "version_major": 2,
       "version_minor": 0
      },
      "text/plain": [
       "FloatProgress(value=0.0, bar_style='info', description='Progress:', layout=Layout(height='25px', width='50%'),…"
      ]
     },
     "metadata": {},
     "output_type": "display_data"
    },
    {
     "name": "stdout",
     "output_type": "stream",
     "text": [
      "+------+------+------------------+------+\n",
      "|symbol|  high|       (high + 10)|   low|\n",
      "+------+------+------------------+------+\n",
      "|  AAPL| 91.04|            101.04| 85.16|\n",
      "|  AAPL|200.26|            210.26|192.55|\n",
      "|  AAPL| 86.58|             96.58|  81.9|\n",
      "|  AAPL| 74.75|             84.75| 72.25|\n",
      "|  AAPL| 65.11|             75.11|  62.6|\n",
      "|  AAPL| 21.75|             31.75| 21.18|\n",
      "|  AAPL| 14.92|             24.92| 14.35|\n",
      "|  AAPL|  23.3|              33.3| 21.96|\n",
      "|  AAPL| 15.25|             25.25| 14.56|\n",
      "|  AAPL| 112.5|             122.5|101.69|\n",
      "|  CSCO|  17.0|              27.0| 16.25|\n",
      "|  CSCO|  27.3|              37.3| 26.21|\n",
      "|  CSCO| 27.98|37.980000000000004| 27.33|\n",
      "|  CSCO| 17.49|             27.49| 17.18|\n",
      "|  CSCO| 19.61|             29.61| 19.27|\n",
      "|  CSCO| 24.53|             34.53| 24.16|\n",
      "|  CSCO| 13.69|23.689999999999998| 13.09|\n",
      "|  CSCO|  19.3|              29.3| 18.26|\n",
      "|  CSCO|  38.5|              48.5| 32.63|\n",
      "|  CSCO|110.25|            120.25|103.56|\n",
      "+------+------+------------------+------+\n",
      "only showing top 20 rows"
     ]
    }
   ],
   "source": [
    "df.select(\"symbol\", \"high\", df[\"high\"] + 10, \"low\").show()"
   ]
  },
  {
   "cell_type": "code",
   "execution_count": 5,
   "metadata": {},
   "outputs": [
    {
     "data": {
      "application/vnd.jupyter.widget-view+json": {
       "model_id": "",
       "version_major": 2,
       "version_minor": 0
      },
      "text/plain": [
       "FloatProgress(value=0.0, bar_style='info', description='Progress:', layout=Layout(height='25px', width='50%'),…"
      ]
     },
     "metadata": {},
     "output_type": "display_data"
    },
    {
     "name": "stdout",
     "output_type": "stream",
     "text": [
      "Column<b'(high >= 10)'>"
     ]
    }
   ],
   "source": [
    "df['high']>=10"
   ]
  },
  {
   "cell_type": "code",
   "execution_count": 6,
   "metadata": {},
   "outputs": [
    {
     "data": {
      "application/vnd.jupyter.widget-view+json": {
       "model_id": "",
       "version_major": 2,
       "version_minor": 0
      },
      "text/plain": [
       "FloatProgress(value=0.0, bar_style='info', description='Progress:', layout=Layout(height='25px', width='50%'),…"
      ]
     },
     "metadata": {},
     "output_type": "display_data"
    },
    {
     "name": "stdout",
     "output_type": "stream",
     "text": [
      "+------+-------------------+-----+-----+-----+-----+--------+---------+\n",
      "|symbol|                day| open| high|  low|close|  volumn|adj_close|\n",
      "+------+-------------------+-----+-----+-----+-----+--------+---------+\n",
      "|  AAPL|2004-01-02 00:00:00|21.55|21.75|21.18|21.28| 5165800|    10.64|\n",
      "|  AAPL|2003-01-02 00:00:00|14.36|14.92|14.35| 14.8| 6479600|      7.4|\n",
      "|  AAPL|2002-01-02 00:00:00|22.05| 23.3|21.96| 23.3|18910600|    11.65|\n",
      "|  AAPL|2001-01-02 00:00:00|14.88|15.25|14.56|14.88|16161800|     7.44|\n",
      "|  CSCO|2009-01-02 00:00:00|16.41| 17.0|16.25|16.96|40980600|    16.96|\n",
      "|  CSCO|2008-01-02 00:00:00| 27.0| 27.3|26.21|26.54|64338900|    26.54|\n",
      "|  CSCO|2007-01-03 00:00:00|27.46|27.98|27.33|27.73|64226000|    27.73|\n",
      "|  CSCO|2006-01-03 00:00:00|17.21|17.49|17.18|17.45|55426000|    17.45|\n",
      "|  CSCO|2005-01-03 00:00:00|19.42|19.61|19.27|19.32|56725600|    19.32|\n",
      "|  CSCO|2004-01-02 00:00:00|24.36|24.53|24.16|24.25|29955800|    24.25|\n",
      "|  CSCO|2003-01-02 00:00:00|13.11|13.69|13.09|13.64|61335700|    13.64|\n",
      "|  CSCO|2002-01-02 00:00:00|18.44| 19.3|18.26|19.23|55376900|    19.23|\n",
      "|  MSFT|2009-01-02 00:00:00|19.53| 20.4|19.37|20.33|50084000|    19.86|\n",
      "|  MSFT|2007-01-03 00:00:00|29.91|30.25| 29.4|29.86|76935100|    28.26|\n",
      "|  MSFT|2006-01-03 00:00:00|26.25| 27.0| 26.1|26.84|79973000|    25.04|\n",
      "|  MSFT|2005-01-03 00:00:00| 26.8|26.95|26.65|26.74|65002900|    24.65|\n",
      "|  MSFT|2004-01-02 00:00:00|27.58|27.77|27.33|27.45|44487700|    22.64|\n",
      "|  YHOO|2009-01-02 00:00:00|12.17|12.85|12.12|12.85| 9514600|    12.85|\n",
      "|  YHOO|2008-01-02 00:00:00| 23.8|24.15| 23.6|23.72|25671700|    23.72|\n",
      "|  YHOO|2007-01-03 00:00:00|25.85|26.26|25.26|25.61|26352700|    25.61|\n",
      "+------+-------------------+-----+-----+-----+-----+--------+---------+\n",
      "only showing top 20 rows"
     ]
    }
   ],
   "source": [
    "df.filter((df[\"close\"] <= 200) & ~(df[\"open\"] > 30)).show()"
   ]
  },
  {
   "cell_type": "code",
   "execution_count": 7,
   "metadata": {},
   "outputs": [
    {
     "data": {
      "application/vnd.jupyter.widget-view+json": {
       "model_id": "",
       "version_major": 2,
       "version_minor": 0
      },
      "text/plain": [
       "FloatProgress(value=0.0, bar_style='info', description='Progress:', layout=Layout(height='25px', width='50%'),…"
      ]
     },
     "metadata": {},
     "output_type": "display_data"
    },
    {
     "name": "stdout",
     "output_type": "stream",
     "text": [
      "+------+-------------------+------+------+------+------+--------+---------+\n",
      "|symbol|                day|  open|  high|   low| close|  volumn|adj_close|\n",
      "+------+-------------------+------+------+------+------+--------+---------+\n",
      "|  GOOG|2008-01-02 00:00:00|692.87|697.37|677.73|685.19| 4306900|   685.19|\n",
      "|  GOOG|2007-01-03 00:00:00| 466.0|476.66|461.11|467.59| 7706500|   467.59|\n",
      "|  YHOO|2000-01-03 00:00:00|442.92| 477.0| 429.5| 475.0|38469600|   118.75|\n",
      "|  GOOG|2006-01-03 00:00:00|422.52|435.67|418.22|435.23|13121200|   435.23|\n",
      "|  GOOG|2009-01-02 00:00:00| 308.6|321.82| 305.5|321.32| 3610500|   321.32|\n",
      "|  AAPL|2008-01-02 00:00:00|199.27|200.26|192.55|194.84|38542100|   194.84|\n",
      "|  GOOG|2005-01-03 00:00:00| 197.4|203.64|195.46|202.71|15844200|   202.71|\n",
      "|  MSFT|2000-01-03 00:00:00|117.37|118.62| 112.0|116.56|53228400|    47.64|\n",
      "|  CSCO|2000-01-03 00:00:00|109.94|110.25|103.56|108.06|53076000|    54.03|\n",
      "|  AAPL|2000-01-03 00:00:00|104.87| 112.5|101.69|111.94|19144400|    27.99|\n",
      "|  AAPL|2007-01-03 00:00:00| 86.29| 86.58|  81.9|  83.8|44225700|     83.8|\n",
      "|  AAPL|2009-01-02 00:00:00| 85.88| 91.04| 85.16| 90.75|26643400|    90.75|\n",
      "|  AAPL|2006-01-03 00:00:00| 72.38| 74.75| 72.25| 74.75|28829800|    74.75|\n",
      "|  MSFT|2002-01-02 00:00:00| 66.65| 67.11| 65.51| 67.04|48124000|     27.4|\n",
      "|  AAPL|2005-01-03 00:00:00| 64.78| 65.11|  62.6| 63.29|24714000|    31.65|\n",
      "|  MSFT|2003-01-02 00:00:00|  52.3| 53.75| 51.71| 53.72|67025200|    21.95|\n",
      "|  YHOO|2004-01-02 00:00:00|  45.5| 45.83| 45.12|  45.4|16480000|     22.7|\n",
      "|  MSFT|2001-01-02 00:00:00| 44.13|  45.0| 42.88| 43.38|82413200|    17.73|\n",
      "|  YHOO|2006-01-03 00:00:00| 39.69| 41.22| 38.79| 40.91|24227700|    40.91|\n",
      "|  YHOO|2005-01-03 00:00:00| 38.36|  38.9| 37.65| 38.18|25482800|    38.18|\n",
      "+------+-------------------+------+------+------+------+--------+---------+\n",
      "only showing top 20 rows"
     ]
    }
   ],
   "source": [
    " df.orderBy(df[\"open\"].desc()).show()"
   ]
  },
  {
   "cell_type": "code",
   "execution_count": 8,
   "metadata": {},
   "outputs": [
    {
     "data": {
      "application/vnd.jupyter.widget-view+json": {
       "model_id": "",
       "version_major": 2,
       "version_minor": 0
      },
      "text/plain": [
       "FloatProgress(value=0.0, bar_style='info', description='Progress:', layout=Layout(height='25px', width='50%'),…"
      ]
     },
     "metadata": {},
     "output_type": "display_data"
    },
    {
     "name": "stdout",
     "output_type": "stream",
     "text": [
      "+------+-------------+\n",
      "|symbol|        names|\n",
      "+------+-------------+\n",
      "|  AAPL|        Apple|\n",
      "|  CSCO|Cisco Systems|\n",
      "+------+-------------+"
     ]
    }
   ],
   "source": [
    "stock_names = [(\"AAPL\", \"Apple\"), (\"CSCO\",\"Cisco Systems\")]\n",
    "stock_names_df = spark.createDataFrame(stock_names, \"symbol: string, names: string\")\n",
    "stock_names_df.show()"
   ]
  },
  {
   "cell_type": "code",
   "execution_count": 9,
   "metadata": {},
   "outputs": [
    {
     "data": {
      "application/vnd.jupyter.widget-view+json": {
       "model_id": "",
       "version_major": 2,
       "version_minor": 0
      },
      "text/plain": [
       "FloatProgress(value=0.0, bar_style='info', description='Progress:', layout=Layout(height='25px', width='50%'),…"
      ]
     },
     "metadata": {},
     "output_type": "display_data"
    },
    {
     "name": "stdout",
     "output_type": "stream",
     "text": [
      "+------+-------------+------+-------------------+------+------+------+------+--------+---------+\n",
      "|symbol|        names|symbol|                day|  open|  high|   low| close|  volumn|adj_close|\n",
      "+------+-------------+------+-------------------+------+------+------+------+--------+---------+\n",
      "|  AAPL|        Apple|  AAPL|2000-01-03 00:00:00|104.87| 112.5|101.69|111.94|19144400|    27.99|\n",
      "|  AAPL|        Apple|  AAPL|2001-01-02 00:00:00| 14.88| 15.25| 14.56| 14.88|16161800|     7.44|\n",
      "|  AAPL|        Apple|  AAPL|2002-01-02 00:00:00| 22.05|  23.3| 21.96|  23.3|18910600|    11.65|\n",
      "|  AAPL|        Apple|  AAPL|2003-01-02 00:00:00| 14.36| 14.92| 14.35|  14.8| 6479600|      7.4|\n",
      "|  AAPL|        Apple|  AAPL|2004-01-02 00:00:00| 21.55| 21.75| 21.18| 21.28| 5165800|    10.64|\n",
      "|  AAPL|        Apple|  AAPL|2005-01-03 00:00:00| 64.78| 65.11|  62.6| 63.29|24714000|    31.65|\n",
      "|  AAPL|        Apple|  AAPL|2006-01-03 00:00:00| 72.38| 74.75| 72.25| 74.75|28829800|    74.75|\n",
      "|  AAPL|        Apple|  AAPL|2007-01-03 00:00:00| 86.29| 86.58|  81.9|  83.8|44225700|     83.8|\n",
      "|  AAPL|        Apple|  AAPL|2008-01-02 00:00:00|199.27|200.26|192.55|194.84|38542100|   194.84|\n",
      "|  AAPL|        Apple|  AAPL|2009-01-02 00:00:00| 85.88| 91.04| 85.16| 90.75|26643400|    90.75|\n",
      "|  CSCO|Cisco Systems|  CSCO|2000-01-03 00:00:00|109.94|110.25|103.56|108.06|53076000|    54.03|\n",
      "|  CSCO|Cisco Systems|  CSCO|2001-01-02 00:00:00| 38.13|  38.5| 32.63| 33.31|17384600|    33.31|\n",
      "|  CSCO|Cisco Systems|  CSCO|2002-01-02 00:00:00| 18.44|  19.3| 18.26| 19.23|55376900|    19.23|\n",
      "|  CSCO|Cisco Systems|  CSCO|2003-01-02 00:00:00| 13.11| 13.69| 13.09| 13.64|61335700|    13.64|\n",
      "|  CSCO|Cisco Systems|  CSCO|2004-01-02 00:00:00| 24.36| 24.53| 24.16| 24.25|29955800|    24.25|\n",
      "|  CSCO|Cisco Systems|  CSCO|2005-01-03 00:00:00| 19.42| 19.61| 19.27| 19.32|56725600|    19.32|\n",
      "|  CSCO|Cisco Systems|  CSCO|2006-01-03 00:00:00| 17.21| 17.49| 17.18| 17.45|55426000|    17.45|\n",
      "|  CSCO|Cisco Systems|  CSCO|2007-01-03 00:00:00| 27.46| 27.98| 27.33| 27.73|64226000|    27.73|\n",
      "|  CSCO|Cisco Systems|  CSCO|2008-01-02 00:00:00|  27.0|  27.3| 26.21| 26.54|64338900|    26.54|\n",
      "|  CSCO|Cisco Systems|  CSCO|2009-01-02 00:00:00| 16.41|  17.0| 16.25| 16.96|40980600|    16.96|\n",
      "+------+-------------+------+-------------------+------+------+------+------+--------+---------+"
     ]
    }
   ],
   "source": [
    "stock_names_df.join(df, stock_names_df[\"symbol\"] == df[\"symbol\"]).show()"
   ]
  },
  {
   "cell_type": "code",
   "execution_count": 10,
   "metadata": {},
   "outputs": [
    {
     "data": {
      "application/vnd.jupyter.widget-view+json": {
       "model_id": "",
       "version_major": 2,
       "version_minor": 0
      },
      "text/plain": [
       "FloatProgress(value=0.0, bar_style='info', description='Progress:', layout=Layout(height='25px', width='50%'),…"
      ]
     },
     "metadata": {},
     "output_type": "display_data"
    },
    {
     "name": "stdout",
     "output_type": "stream",
     "text": [
      "+------+------------------+--------+-----------+------------------+---------+\n",
      "|symbol|         avg(open)|min(low)|sum(volumn)|     stddev(close)|max(high)|\n",
      "+------+------------------+--------+-----------+------------------+---------+\n",
      "|  AAPL|            68.631|   14.35|  228817200|56.439056029982964|   200.26|\n",
      "|  CSCO|31.148000000000003|   13.09|  498826100|27.839906788637062|   110.25|\n",
      "|  YHOO|            69.333|   12.12|  229682300|141.78699896911093|    477.0|\n",
      "|  GOOG|417.47799999999995|  195.46|   44589300| 180.1014931087469|   697.37|\n",
      "|  MSFT| 44.63100000000001|   19.37|  630277700|29.038542663157184|   118.62|\n",
      "+------+------------------+--------+-----------+------------------+---------+"
     ]
    }
   ],
   "source": [
    "df.groupBy(df[\"symbol\"]).agg({\n",
    "\n",
    "        \"open\": \"avg\",\n",
    "        \"close\": \"stddev\",\n",
    "        \"high\": \"max\",\n",
    "        \"low\" : \"min\",\n",
    "        \"volumn\": \"sum\"\n",
    "\n",
    "    }).show()"
   ]
  },
  {
   "cell_type": "code",
   "execution_count": 11,
   "metadata": {},
   "outputs": [
    {
     "data": {
      "application/vnd.jupyter.widget-view+json": {
       "model_id": "",
       "version_major": 2,
       "version_minor": 0
      },
      "text/plain": [
       "FloatProgress(value=0.0, bar_style='info', description='Progress:', layout=Layout(height='25px', width='50%'),…"
      ]
     },
     "metadata": {},
     "output_type": "display_data"
    },
    {
     "name": "stdout",
     "output_type": "stream",
     "text": [
      "+------+------------------+------------------+---------+--------+-----------+\n",
      "|symbol|         avg(open)|stddev_samp(close)|max(high)|min(low)|sum(volumn)|\n",
      "+------+------------------+------------------+---------+--------+-----------+\n",
      "|  AAPL|            68.631|56.439056029982964|   200.26|   14.35|  228817200|\n",
      "|  CSCO|31.148000000000003|27.839906788637062|   110.25|   13.09|  498826100|\n",
      "|  YHOO|            69.333|141.78699896911093|    477.0|   12.12|  229682300|\n",
      "|  GOOG|417.47799999999995| 180.1014931087469|   697.37|  195.46|   44589300|\n",
      "|  MSFT| 44.63100000000001|29.038542663157184|   118.62|   19.37|  630277700|\n",
      "+------+------------------+------------------+---------+--------+-----------+"
     ]
    }
   ],
   "source": [
    "df2 = df.groupBy(df[\"symbol\"]).agg(avg(\"open\"), stddev(\"close\"), max(\"high\"), min(\"low\"), sum(\"volumn\")).show()\n",
    "df2"
   ]
  },
  {
   "cell_type": "code",
   "execution_count": 12,
   "metadata": {},
   "outputs": [
    {
     "data": {
      "application/vnd.jupyter.widget-view+json": {
       "model_id": "",
       "version_major": 2,
       "version_minor": 0
      },
      "text/plain": [
       "FloatProgress(value=0.0, bar_style='info', description='Progress:', layout=Layout(height='25px', width='50%'),…"
      ]
     },
     "metadata": {},
     "output_type": "display_data"
    },
    {
     "name": "stdout",
     "output_type": "stream",
     "text": [
      "+------+-------------------+------+------+------+------+--------+---------+\n",
      "|symbol|                day|  open|  high|   low| close|  volumn|adj_close|\n",
      "+------+-------------------+------+------+------+------+--------+---------+\n",
      "|  AAPL|2009-01-02 00:00:00| 85.88| 91.04| 85.16| 90.75|26643400|    90.75|\n",
      "|  AAPL|2008-01-02 00:00:00|199.27|200.26|192.55|194.84|38542100|   194.84|\n",
      "|  AAPL|2007-01-03 00:00:00| 86.29| 86.58|  81.9|  83.8|44225700|     83.8|\n",
      "|  AAPL|2006-01-03 00:00:00| 72.38| 74.75| 72.25| 74.75|28829800|    74.75|\n",
      "|  AAPL|2005-01-03 00:00:00| 64.78| 65.11|  62.6| 63.29|24714000|    31.65|\n",
      "|  AAPL|2004-01-02 00:00:00| 21.55| 21.75| 21.18| 21.28| 5165800|    10.64|\n",
      "|  AAPL|2003-01-02 00:00:00| 14.36| 14.92| 14.35|  14.8| 6479600|      7.4|\n",
      "|  AAPL|2002-01-02 00:00:00| 22.05|  23.3| 21.96|  23.3|18910600|    11.65|\n",
      "|  AAPL|2001-01-02 00:00:00| 14.88| 15.25| 14.56| 14.88|16161800|     7.44|\n",
      "|  AAPL|2000-01-03 00:00:00|104.87| 112.5|101.69|111.94|19144400|    27.99|\n",
      "|  CSCO|2009-01-02 00:00:00| 16.41|  17.0| 16.25| 16.96|40980600|    16.96|\n",
      "|  CSCO|2008-01-02 00:00:00|  27.0|  27.3| 26.21| 26.54|64338900|    26.54|\n",
      "|  CSCO|2007-01-03 00:00:00| 27.46| 27.98| 27.33| 27.73|64226000|    27.73|\n",
      "|  CSCO|2006-01-03 00:00:00| 17.21| 17.49| 17.18| 17.45|55426000|    17.45|\n",
      "|  CSCO|2005-01-03 00:00:00| 19.42| 19.61| 19.27| 19.32|56725600|    19.32|\n",
      "|  CSCO|2004-01-02 00:00:00| 24.36| 24.53| 24.16| 24.25|29955800|    24.25|\n",
      "|  CSCO|2003-01-02 00:00:00| 13.11| 13.69| 13.09| 13.64|61335700|    13.64|\n",
      "|  CSCO|2002-01-02 00:00:00| 18.44|  19.3| 18.26| 19.23|55376900|    19.23|\n",
      "|  CSCO|2001-01-02 00:00:00| 38.13|  38.5| 32.63| 33.31|17384600|    33.31|\n",
      "|  CSCO|2000-01-03 00:00:00|109.94|110.25|103.56|108.06|53076000|    54.03|\n",
      "+------+-------------------+------+------+------+------+--------+---------+\n",
      "only showing top 20 rows"
     ]
    }
   ],
   "source": [
    "df.show()"
   ]
  },
  {
   "cell_type": "code",
   "execution_count": 15,
   "metadata": {},
   "outputs": [
    {
     "data": {
      "application/vnd.jupyter.widget-view+json": {
       "model_id": "",
       "version_major": 2,
       "version_minor": 0
      },
      "text/plain": [
       "FloatProgress(value=0.0, bar_style='info', description='Progress:', layout=Layout(height='25px', width='50%'),…"
      ]
     },
     "metadata": {},
     "output_type": "display_data"
    },
    {
     "name": "stdout",
     "output_type": "stream",
     "text": [
      "+----+-----+-----+\n",
      "|  Id| Name|Sales|\n",
      "+----+-----+-----+\n",
      "|emp1| John| null|\n",
      "|emp2| null| null|\n",
      "|emp3| null|345.0|\n",
      "|emp4|Cindy|456.0|\n",
      "+----+-----+-----+"
     ]
    }
   ],
   "source": [
    "df = spark.read.csv(\"hdfs://10.120.26.200/user/spark/spark_sql_101/data/contains_null.txt\", inferSchema=True, header=True)\n",
    "df.show()"
   ]
  },
  {
   "cell_type": "code",
   "execution_count": 16,
   "metadata": {},
   "outputs": [
    {
     "data": {
      "application/vnd.jupyter.widget-view+json": {
       "model_id": "",
       "version_major": 2,
       "version_minor": 0
      },
      "text/plain": [
       "FloatProgress(value=0.0, bar_style='info', description='Progress:', layout=Layout(height='25px', width='50%'),…"
      ]
     },
     "metadata": {},
     "output_type": "display_data"
    },
    {
     "name": "stdout",
     "output_type": "stream",
     "text": [
      "+----+-----+-----+\n",
      "|  Id| Name|Sales|\n",
      "+----+-----+-----+\n",
      "|emp1| John| null|\n",
      "|emp4|Cindy|456.0|\n",
      "+----+-----+-----+"
     ]
    }
   ],
   "source": [
    "# 針對Name欄位，刪除有null值的row\n",
    "df.na.drop(how=\"any\", subset=[\"Name\"]).show()"
   ]
  },
  {
   "cell_type": "code",
   "execution_count": null,
   "metadata": {},
   "outputs": [],
   "source": []
  }
 ],
 "metadata": {
  "kernelspec": {
   "display_name": "PySpark",
   "language": "",
   "name": "pysparkkernel"
  },
  "language_info": {
   "codemirror_mode": {
    "name": "python",
    "version": 3
   },
   "mimetype": "text/x-python",
   "name": "pyspark",
   "pygments_lexer": "python3"
  }
 },
 "nbformat": 4,
 "nbformat_minor": 2
}
