{
 "cells": [
  {
   "cell_type": "code",
   "execution_count": 1,
   "metadata": {},
   "outputs": [
    {
     "name": "stdout",
     "output_type": "stream",
     "text": [
      "Starting Spark application\n"
     ]
    },
    {
     "data": {
      "text/html": [
       "<table>\n",
       "<tr><th>ID</th><th>YARN Application ID</th><th>Kind</th><th>State</th><th>Spark UI</th><th>Driver log</th><th>Current session?</th></tr><tr><td>52</td><td>None</td><td>pyspark</td><td>idle</td><td></td><td></td><td>✔</td></tr></table>"
      ],
      "text/plain": [
       "<IPython.core.display.HTML object>"
      ]
     },
     "metadata": {},
     "output_type": "display_data"
    },
    {
     "data": {
      "application/vnd.jupyter.widget-view+json": {
       "model_id": "",
       "version_major": 2,
       "version_minor": 0
      },
      "text/plain": [
       "FloatProgress(value=0.0, bar_style='info', description='Progress:', layout=Layout(height='25px', width='50%'),…"
      ]
     },
     "metadata": {},
     "output_type": "display_data"
    },
    {
     "name": "stdout",
     "output_type": "stream",
     "text": [
      "SparkSession available as 'spark'.\n"
     ]
    },
    {
     "data": {
      "application/vnd.jupyter.widget-view+json": {
       "model_id": "",
       "version_major": 2,
       "version_minor": 0
      },
      "text/plain": [
       "FloatProgress(value=0.0, bar_style='info', description='Progress:', layout=Layout(height='25px', width='50%'),…"
      ]
     },
     "metadata": {},
     "output_type": "display_data"
    }
   ],
   "source": [
    "sc.stop()\n",
    "from pyspark import SparkConf, SparkContext\n",
    "from pyspark.sql import SparkSession\n",
    "from pyspark.sql.functions import udf\n",
    "from pyspark.sql.types import IntegerType\n",
    "\n",
    "conf = SparkConf().setAppName(\"202-f\")\\\n",
    "                  .setMaster(\"spark://10.120.26.200:7077\")\\\n",
    "                  .set(\"spark.executor.memory\", '6g')\\\n",
    "                  .set('spark.cores.max', '4')\n",
    "\n",
    "sc = SparkContext(conf=conf)\n",
    "spark = SparkSession.builder.appName('sql coming~').getOrCreate()"
   ]
  },
  {
   "cell_type": "code",
   "execution_count": 2,
   "metadata": {},
   "outputs": [
    {
     "data": {
      "application/vnd.jupyter.widget-view+json": {
       "model_id": "",
       "version_major": 2,
       "version_minor": 0
      },
      "text/plain": [
       "FloatProgress(value=0.0, bar_style='info', description='Progress:', layout=Layout(height='25px', width='50%'),…"
      ]
     },
     "metadata": {},
     "output_type": "display_data"
    }
   ],
   "source": [
    "# (1) Define a normal Python function and match arguments to your UDF (i.e. number of arguments and their types)\n",
    "def slen_py(s):\n",
    "    return len(s)"
   ]
  },
  {
   "cell_type": "code",
   "execution_count": 3,
   "metadata": {},
   "outputs": [
    {
     "data": {
      "application/vnd.jupyter.widget-view+json": {
       "model_id": "",
       "version_major": 2,
       "version_minor": 0
      },
      "text/plain": [
       "FloatProgress(value=0.0, bar_style='info', description='Progress:', layout=Layout(height='25px', width='50%'),…"
      ]
     },
     "metadata": {},
     "output_type": "display_data"
    }
   ],
   "source": [
    "# (2) Register UDF function\n",
    "spark.udf.register(\"slen\", slen_py, IntegerType())\n",
    "slen = udf(slen_py, IntegerType())"
   ]
  },
  {
   "cell_type": "code",
   "execution_count": 4,
   "metadata": {},
   "outputs": [
    {
     "data": {
      "application/vnd.jupyter.widget-view+json": {
       "model_id": "",
       "version_major": 2,
       "version_minor": 0
      },
      "text/plain": [
       "FloatProgress(value=0.0, bar_style='info', description='Progress:', layout=Layout(height='25px', width='50%'),…"
      ]
     },
     "metadata": {},
     "output_type": "display_data"
    },
    {
     "name": "stdout",
     "output_type": "stream",
     "text": [
      "root\n",
      " |-- symbol: string (nullable = true)\n",
      " |-- day: timestamp (nullable = true)\n",
      " |-- open: double (nullable = true)\n",
      " |-- high: double (nullable = true)\n",
      " |-- low: double (nullable = true)\n",
      " |-- close: double (nullable = true)\n",
      " |-- volumn: integer (nullable = true)\n",
      " |-- adj_close: double (nullable = true)\n",
      "\n",
      "+------+-------------------+------+------+------+------+--------+---------+\n",
      "|symbol|                day|  open|  high|   low| close|  volumn|adj_close|\n",
      "+------+-------------------+------+------+------+------+--------+---------+\n",
      "|  AAPL|2009-01-02 00:00:00| 85.88| 91.04| 85.16| 90.75|26643400|    90.75|\n",
      "|  AAPL|2008-01-02 00:00:00|199.27|200.26|192.55|194.84|38542100|   194.84|\n",
      "|  AAPL|2007-01-03 00:00:00| 86.29| 86.58|  81.9|  83.8|44225700|     83.8|\n",
      "|  AAPL|2006-01-03 00:00:00| 72.38| 74.75| 72.25| 74.75|28829800|    74.75|\n",
      "|  AAPL|2005-01-03 00:00:00| 64.78| 65.11|  62.6| 63.29|24714000|    31.65|\n",
      "|  AAPL|2004-01-02 00:00:00| 21.55| 21.75| 21.18| 21.28| 5165800|    10.64|\n",
      "|  AAPL|2003-01-02 00:00:00| 14.36| 14.92| 14.35|  14.8| 6479600|      7.4|\n",
      "|  AAPL|2002-01-02 00:00:00| 22.05|  23.3| 21.96|  23.3|18910600|    11.65|\n",
      "|  AAPL|2001-01-02 00:00:00| 14.88| 15.25| 14.56| 14.88|16161800|     7.44|\n",
      "|  AAPL|2000-01-03 00:00:00|104.87| 112.5|101.69|111.94|19144400|    27.99|\n",
      "|  CSCO|2009-01-02 00:00:00| 16.41|  17.0| 16.25| 16.96|40980600|    16.96|\n",
      "|  CSCO|2008-01-02 00:00:00|  27.0|  27.3| 26.21| 26.54|64338900|    26.54|\n",
      "|  CSCO|2007-01-03 00:00:00| 27.46| 27.98| 27.33| 27.73|64226000|    27.73|\n",
      "|  CSCO|2006-01-03 00:00:00| 17.21| 17.49| 17.18| 17.45|55426000|    17.45|\n",
      "|  CSCO|2005-01-03 00:00:00| 19.42| 19.61| 19.27| 19.32|56725600|    19.32|\n",
      "|  CSCO|2004-01-02 00:00:00| 24.36| 24.53| 24.16| 24.25|29955800|    24.25|\n",
      "|  CSCO|2003-01-02 00:00:00| 13.11| 13.69| 13.09| 13.64|61335700|    13.64|\n",
      "|  CSCO|2002-01-02 00:00:00| 18.44|  19.3| 18.26| 19.23|55376900|    19.23|\n",
      "|  CSCO|2001-01-02 00:00:00| 38.13|  38.5| 32.63| 33.31|17384600|    33.31|\n",
      "|  CSCO|2000-01-03 00:00:00|109.94|110.25|103.56|108.06|53076000|    54.03|\n",
      "+------+-------------------+------+------+------+------+--------+---------+\n",
      "only showing top 20 rows"
     ]
    }
   ],
   "source": [
    "# Use it\n",
    "df = spark.read.csv(\"hdfs://10.120.26.200/user/spark/spark_sql_101/data/stocks_header.txt\", inferSchema=True,\n",
    "                        header=True)\n",
    "df.printSchema()\n",
    "df.show()"
   ]
  },
  {
   "cell_type": "code",
   "execution_count": 11,
   "metadata": {},
   "outputs": [
    {
     "data": {
      "application/vnd.jupyter.widget-view+json": {
       "model_id": "",
       "version_major": 2,
       "version_minor": 0
      },
      "text/plain": [
       "FloatProgress(value=0.0, bar_style='info', description='Progress:', layout=Layout(height='25px', width='50%'),…"
      ]
     },
     "metadata": {},
     "output_type": "display_data"
    },
    {
     "name": "stdout",
     "output_type": "stream",
     "text": [
      "+----------------+\n",
      "|length_of_volumn|\n",
      "+----------------+\n",
      "|               4|\n",
      "|               4|\n",
      "|               4|\n",
      "|               4|\n",
      "|               4|\n",
      "|               4|\n",
      "|               4|\n",
      "|               4|\n",
      "|               4|\n",
      "|               4|\n",
      "|               4|\n",
      "|               4|\n",
      "|               4|\n",
      "|               4|\n",
      "|               4|\n",
      "|               4|\n",
      "|               4|\n",
      "|               4|\n",
      "|               4|\n",
      "|               4|\n",
      "+----------------+\n",
      "only showing top 20 rows"
     ]
    }
   ],
   "source": [
    "df.createOrReplaceTempView(\"stocks\")\n",
    "spark.sql(\"select slen(symbol) as length_of_volumn from stocks\").show()"
   ]
  },
  {
   "cell_type": "code",
   "execution_count": 6,
   "metadata": {},
   "outputs": [
    {
     "data": {
      "application/vnd.jupyter.widget-view+json": {
       "model_id": "",
       "version_major": 2,
       "version_minor": 0
      },
      "text/plain": [
       "FloatProgress(value=0.0, bar_style='info', description='Progress:', layout=Layout(height='25px', width='50%'),…"
      ]
     },
     "metadata": {},
     "output_type": "display_data"
    }
   ],
   "source": [
    "slen = udf(slen_py, IntegerType())"
   ]
  },
  {
   "cell_type": "code",
   "execution_count": 7,
   "metadata": {},
   "outputs": [
    {
     "data": {
      "application/vnd.jupyter.widget-view+json": {
       "model_id": "",
       "version_major": 2,
       "version_minor": 0
      },
      "text/plain": [
       "FloatProgress(value=0.0, bar_style='info', description='Progress:', layout=Layout(height='25px', width='50%'),…"
      ]
     },
     "metadata": {},
     "output_type": "display_data"
    },
    {
     "name": "stdout",
     "output_type": "stream",
     "text": [
      "+----------------+\n",
      "|length_of_symbol|\n",
      "+----------------+\n",
      "|               4|\n",
      "|               4|\n",
      "|               4|\n",
      "|               4|\n",
      "|               4|\n",
      "|               4|\n",
      "|               4|\n",
      "|               4|\n",
      "|               4|\n",
      "|               4|\n",
      "|               4|\n",
      "|               4|\n",
      "|               4|\n",
      "|               4|\n",
      "|               4|\n",
      "|               4|\n",
      "|               4|\n",
      "|               4|\n",
      "|               4|\n",
      "|               4|\n",
      "+----------------+\n",
      "only showing top 20 rows"
     ]
    }
   ],
   "source": [
    "df.select(slen(\"symbol\").alias(\"length_of_symbol\")).show()"
   ]
  },
  {
   "cell_type": "code",
   "execution_count": null,
   "metadata": {},
   "outputs": [],
   "source": []
  }
 ],
 "metadata": {
  "kernelspec": {
   "display_name": "PySpark",
   "language": "",
   "name": "pysparkkernel"
  },
  "language_info": {
   "codemirror_mode": {
    "name": "python",
    "version": 3
   },
   "mimetype": "text/x-python",
   "name": "pyspark",
   "pygments_lexer": "python3"
  }
 },
 "nbformat": 4,
 "nbformat_minor": 2
}
