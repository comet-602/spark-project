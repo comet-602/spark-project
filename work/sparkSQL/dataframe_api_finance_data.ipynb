{
 "cells": [
  {
   "cell_type": "code",
   "execution_count": 1,
   "metadata": {},
   "outputs": [
    {
     "name": "stdout",
     "output_type": "stream",
     "text": [
      "Starting Spark application\n"
     ]
    },
    {
     "data": {
      "text/html": [
       "<table>\n",
       "<tr><th>ID</th><th>YARN Application ID</th><th>Kind</th><th>State</th><th>Spark UI</th><th>Driver log</th><th>Current session?</th></tr><tr><td>50</td><td>None</td><td>pyspark</td><td>idle</td><td></td><td></td><td>✔</td></tr></table>"
      ],
      "text/plain": [
       "<IPython.core.display.HTML object>"
      ]
     },
     "metadata": {},
     "output_type": "display_data"
    },
    {
     "data": {
      "application/vnd.jupyter.widget-view+json": {
       "model_id": "",
       "version_major": 2,
       "version_minor": 0
      },
      "text/plain": [
       "FloatProgress(value=0.0, bar_style='info', description='Progress:', layout=Layout(height='25px', width='50%'),…"
      ]
     },
     "metadata": {},
     "output_type": "display_data"
    },
    {
     "name": "stdout",
     "output_type": "stream",
     "text": [
      "SparkSession available as 'spark'.\n"
     ]
    },
    {
     "data": {
      "application/vnd.jupyter.widget-view+json": {
       "model_id": "",
       "version_major": 2,
       "version_minor": 0
      },
      "text/plain": [
       "FloatProgress(value=0.0, bar_style='info', description='Progress:', layout=Layout(height='25px', width='50%'),…"
      ]
     },
     "metadata": {},
     "output_type": "display_data"
    }
   ],
   "source": [
    "sc.stop()\n",
    "from pyspark import SparkConf, SparkContext\n",
    "from pyspark.sql import SparkSession\n",
    "from pyspark.sql.functions import *\n",
    "\n",
    "conf = SparkConf().setAppName(\"202\")\\\n",
    "                  .setMaster(\"spark://10.120.26.200:7077\")\\\n",
    "                  .set(\"spark.executor.memory\", '6g')\\\n",
    "                  .set('spark.cores.max', '4')\n",
    "\n",
    "sc = SparkContext(conf=conf)\n",
    "spark = SparkSession.builder.appName('sql coming~').getOrCreate()"
   ]
  },
  {
   "cell_type": "code",
   "execution_count": 2,
   "metadata": {},
   "outputs": [
    {
     "data": {
      "application/vnd.jupyter.widget-view+json": {
       "model_id": "",
       "version_major": 2,
       "version_minor": 0
      },
      "text/plain": [
       "FloatProgress(value=0.0, bar_style='info', description='Progress:', layout=Layout(height='25px', width='50%'),…"
      ]
     },
     "metadata": {},
     "output_type": "display_data"
    }
   ],
   "source": [
    "finances_df = spark.read.json(\"hdfs://10.120.26.200/user/spark/spark_sql_101/data/finances.json\")"
   ]
  },
  {
   "cell_type": "code",
   "execution_count": 3,
   "metadata": {},
   "outputs": [
    {
     "data": {
      "application/vnd.jupyter.widget-view+json": {
       "model_id": "",
       "version_major": 2,
       "version_minor": 0
      },
      "text/plain": [
       "FloatProgress(value=0.0, bar_style='info', description='Progress:', layout=Layout(height='25px', width='50%'),…"
      ]
     },
     "metadata": {},
     "output_type": "display_data"
    },
    {
     "name": "stdout",
     "output_type": "stream",
     "text": [
      "+-----------+------+---------+--------------------+\n",
      "|     Number|Amount|     Date|         Description|\n",
      "+-----------+------+---------+--------------------+\n",
      "|123-ABC-789|  1.23| 1/1/2015|          Drug Store|\n",
      "|456-DEF-456| 200.0| 1/3/2015|         Electronics|\n",
      "|123-ABC-789|  2.36| 1/9/2015|       Grocery Store|\n",
      "|456-DEF-456| 23.16|1/11/2015|             Unknown|\n",
      "|123-ABC-789| 42.12|1/12/2015|                Park|\n",
      "|456-DEF-456|  20.0|1/12/2015|         Electronics|\n",
      "|333-XYZ-999| 52.13|1/17/2015|                 Gas|\n",
      "|333-XYZ-999| 41.67|1/19/2015|Some Totally Fake...|\n",
      "|333-XYZ-999| 56.37|1/21/2015|                 Gas|\n",
      "|987-CBA-321| 63.84|1/23/2015|       Grocery Store|\n",
      "|123-ABC-789|160.91|1/24/2015|         Electronics|\n",
      "|456-DEF-456| 78.77|1/24/2015|       Grocery Store|\n",
      "|333-XYZ-999| 86.24|1/29/2015|              Movies|\n",
      "|456-DEF-456| 93.71|1/31/2015|       Grocery Store|\n",
      "|987-CBA-321|  2.29|1/31/2015|          Drug Store|\n",
      "|456-DEF-456|108.64|1/31/2015|                Park|\n",
      "|456-DEF-456|116.11|1/31/2015|               Books|\n",
      "|123-ABC-789| 27.19|2/10/2015|       Grocery Store|\n",
      "|333-XYZ-999|131.04|2/11/2015|         Electronics|\n",
      "|456-DEF-456| 18.99|2/12/2015|          Drug Store|\n",
      "+-----------+------+---------+--------------------+\n",
      "only showing top 20 rows"
     ]
    }
   ],
   "source": [
    "etl_df = finances_df.na.drop(\"all\", subset=[\"ID\", \"Account\", \"Amount\", \"Description\", \"Date\"]) \\\n",
    "                        .na.fill(\"Unknown\", \"Description\") \\\n",
    "                        .where((finances_df[\"Amount\"] != 0) | (finances_df[\"Description\"] == \"Unknown\")) \\\n",
    "                        .select(\"Account.Number\", \"Amount\", \"Date\", \"Description\")\n",
    "etl_df.show()"
   ]
  },
  {
   "cell_type": "code",
   "execution_count": 4,
   "metadata": {},
   "outputs": [
    {
     "data": {
      "application/vnd.jupyter.widget-view+json": {
       "model_id": "",
       "version_major": 2,
       "version_minor": 0
      },
      "text/plain": [
       "FloatProgress(value=0.0, bar_style='info', description='Progress:', layout=Layout(height='25px', width='50%'),…"
      ]
     },
     "metadata": {},
     "output_type": "display_data"
    },
    {
     "name": "stdout",
     "output_type": "stream",
     "text": [
      "+--------------------+----+\n",
      "|     _corrupt_record|  ID|\n",
      "+--------------------+----+\n",
      "|{\"ID\":3,\"Account\"...|null|\n",
      "+--------------------+----+"
     ]
    }
   ],
   "source": [
    "corrupt_df = finances_df.where(finances_df[\"_corrupt_record\"].isNotNull()).select(\"_corrupt_record\", \"ID\")\n",
    "corrupt_df.show()"
   ]
  },
  {
   "cell_type": "code",
   "execution_count": 5,
   "metadata": {},
   "outputs": [
    {
     "data": {
      "application/vnd.jupyter.widget-view+json": {
       "model_id": "",
       "version_major": 2,
       "version_minor": 0
      },
      "text/plain": [
       "FloatProgress(value=0.0, bar_style='info', description='Progress:', layout=Layout(height='25px', width='50%'),…"
      ]
     },
     "metadata": {},
     "output_type": "display_data"
    },
    {
     "name": "stdout",
     "output_type": "stream",
     "text": [
      "+-------------+-------------+\n",
      "|     FullName|AccountNumber|\n",
      "+-------------+-------------+\n",
      "|    Jay Smith|  123-ABC-789|\n",
      "| Sally Fuller|  456-DEF-456|\n",
      "|Justin Pihony|  987-CBA-321|\n",
      "|  Brad Turner|  333-XYZ-999|\n",
      "+-------------+-------------+"
     ]
    }
   ],
   "source": [
    "account_df = finances_df.select(concat(\"Account.FirstName\",lit(\" \"),\"Account.LastName\").alias(\"FullName\"),\n",
    "                                           finances_df[\"Account.Number\"].alias(\"AccountNumber\")) \\\n",
    "                            .na.drop(\"all\") \\\n",
    "                            .distinct()\n",
    "account_df.show()"
   ]
  },
  {
   "cell_type": "code",
   "execution_count": 7,
   "metadata": {},
   "outputs": [
    {
     "data": {
      "application/vnd.jupyter.widget-view+json": {
       "model_id": "",
       "version_major": 2,
       "version_minor": 0
      },
      "text/plain": [
       "FloatProgress(value=0.0, bar_style='info', description='Progress:', layout=Layout(height='25px', width='50%'),…"
      ]
     },
     "metadata": {},
     "output_type": "display_data"
    },
    {
     "name": "stdout",
     "output_type": "stream",
     "text": [
      "+----------+\n",
      "|      Date|\n",
      "+----------+\n",
      "|2015-01-01|\n",
      "|2015-01-03|\n",
      "|      null|\n",
      "|2015-01-04|\n",
      "|2015-01-09|\n",
      "|2015-01-11|\n",
      "|2015-01-12|\n",
      "|2015-01-12|\n",
      "|2015-01-17|\n",
      "|2015-01-19|\n",
      "|2015-01-21|\n",
      "|2015-01-23|\n",
      "|2015-01-24|\n",
      "|2015-01-24|\n",
      "|2015-01-29|\n",
      "|2015-01-31|\n",
      "|2015-01-31|\n",
      "|2015-01-31|\n",
      "|2015-01-31|\n",
      "|2015-02-10|\n",
      "+----------+\n",
      "only showing top 20 rows"
     ]
    }
   ],
   "source": [
    "\n",
    "date = finances_df.select(to_date(unix_timestamp(finances_df[\"Date\"], \"MM/dd/yyyy\").cast(\"timestamp\")).alias(\"Date\"))\n",
    "date.show()"
   ]
  },
  {
   "cell_type": "code",
   "execution_count": 8,
   "metadata": {},
   "outputs": [
    {
     "data": {
      "application/vnd.jupyter.widget-view+json": {
       "model_id": "",
       "version_major": 2,
       "version_minor": 0
      },
      "text/plain": [
       "FloatProgress(value=0.0, bar_style='info', description='Progress:', layout=Layout(height='25px', width='50%'),…"
      ]
     },
     "metadata": {},
     "output_type": "display_data"
    },
    {
     "name": "stdout",
     "output_type": "stream",
     "text": [
      "+-------------+------------------+------------------+--------------------+--------------+--------------+-----------------------+-----------------------------+\n",
      "|AccountNumber|AverageTransaction| TotalTransactions|NumberOfTransactions|MaxTransaction|MinTransaction|StandardDeviationAmount|UniqueTransactionDescriptions|\n",
      "+-------------+------------------+------------------+--------------------+--------------+--------------+-----------------------+-----------------------------+\n",
      "|  456-DEF-456|104.75142857142855|1466.5199999999998|                  14|         281.0|          6.78|      86.07276714475982|         [Electronics, Gro...|\n",
      "|  333-XYZ-999|103.92545454545456|           1143.18|                  11|         241.8|         41.67|      77.92123104310356|         [Electronics, Gro...|\n",
      "|  987-CBA-321| 87.19099999999999| 871.9099999999999|                  10|        267.93|           0.0|      86.26235350500369|         [Electronics, Gro...|\n",
      "|  123-ABC-789| 362.9785714285714|            5081.7|                  14|        4000.0|           0.0|     1049.8614269941104|         [Electronics, Gro...|\n",
      "+-------------+------------------+------------------+--------------------+--------------+--------------+-----------------------+-----------------------------+"
     ]
    }
   ],
   "source": [
    "account_details_df = finances_df.select(finances_df[\"Account.Number\"].alias(\"AccountNumber\"),\n",
    "                                            finances_df[\"Amount\"],\n",
    "                                            finances_df[\"Description\"],\n",
    "                                            to_date(unix_timestamp(finances_df[\"Date\"], \"MM/dd/yyyy\").cast(\"timestamp\")).alias(\"Date\")) \\\n",
    "                                     .na.drop(\"all\", subset=[\"AccountNumber\", \"Amount\", \"Description\", \"Date\"]) \\\n",
    "                                     .groupBy(\"AccountNumber\") \\\n",
    "                                     .agg(avg(\"Amount\").alias(\"AverageTransaction\"), sum(\"Amount\").alias(\"TotalTransactions\"),\n",
    "                                          count(\"Amount\").alias(\"NumberOfTransactions\"), max(\"Amount\").alias(\"MaxTransaction\"),\n",
    "                                          min(\"Amount\").alias(\"MinTransaction\"), stddev(\"Amount\").alias(\"StandardDeviationAmount\"),\n",
    "                                          collect_set(\"Description\").alias(\"UniqueTransactionDescriptions\"))\n",
    "\n",
    "account_details_df.show(truncate=False)"
   ]
  },
  {
   "cell_type": "code",
   "execution_count": null,
   "metadata": {},
   "outputs": [],
   "source": [
    "account_details_df.show(truncate=False)"
   ]
  }
 ],
 "metadata": {
  "kernelspec": {
   "display_name": "PySpark",
   "language": "",
   "name": "pysparkkernel"
  },
  "language_info": {
   "codemirror_mode": {
    "name": "python",
    "version": 3
   },
   "mimetype": "text/x-python",
   "name": "pyspark",
   "pygments_lexer": "python3"
  }
 },
 "nbformat": 4,
 "nbformat_minor": 2
}
