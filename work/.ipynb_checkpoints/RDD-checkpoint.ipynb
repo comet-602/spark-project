{
 "cells": [
  {
   "cell_type": "code",
   "execution_count": 1,
   "metadata": {},
   "outputs": [
    {
     "name": "stdout",
     "output_type": "stream",
     "text": [
      "Starting Spark application\n"
     ]
    },
    {
     "data": {
      "text/html": [
       "<table>\n",
       "<tr><th>ID</th><th>YARN Application ID</th><th>Kind</th><th>State</th><th>Spark UI</th><th>Driver log</th><th>Current session?</th></tr><tr><td>73</td><td>None</td><td>pyspark</td><td>idle</td><td></td><td></td><td>✔</td></tr></table>"
      ],
      "text/plain": [
       "<IPython.core.display.HTML object>"
      ]
     },
     "metadata": {},
     "output_type": "display_data"
    },
    {
     "data": {
      "application/vnd.jupyter.widget-view+json": {
       "model_id": "",
       "version_major": 2,
       "version_minor": 0
      },
      "text/plain": [
       "FloatProgress(value=0.0, bar_style='info', description='Progress:', layout=Layout(height='25px', width='50%'),…"
      ]
     },
     "metadata": {},
     "output_type": "display_data"
    },
    {
     "name": "stdout",
     "output_type": "stream",
     "text": [
      "SparkSession available as 'spark'.\n"
     ]
    },
    {
     "data": {
      "application/vnd.jupyter.widget-view+json": {
       "model_id": "",
       "version_major": 2,
       "version_minor": 0
      },
      "text/plain": [
       "FloatProgress(value=0.0, bar_style='info', description='Progress:', layout=Layout(height='25px', width='50%'),…"
      ]
     },
     "metadata": {},
     "output_type": "display_data"
    }
   ],
   "source": [
    "sc.stop()\n",
    "from pyspark import SparkConf, SparkContext\n",
    "from pyspark.sql import SparkSession\n",
    "from pyspark.sql.types import *\n",
    "\n",
    "conf = SparkConf().setAppName(\"zzzZ\")\\\n",
    "                  .setMaster(\"spark://10.120.26.200:7077\")\\\n",
    "                  .set(\"spark.executor.memory\", '6g')\\\n",
    "                  .set('spark.cores.max', '4')\n",
    "\n",
    "sc = SparkContext(conf=conf)\n",
    "spark = SparkSession.builder.appName('coming~').getOrCreate()"
   ]
  },
  {
   "cell_type": "markdown",
   "metadata": {},
   "source": [
    "### Transformations"
   ]
  },
  {
   "cell_type": "code",
   "execution_count": 177,
   "metadata": {},
   "outputs": [
    {
     "data": {
      "application/vnd.jupyter.widget-view+json": {
       "model_id": "",
       "version_major": 2,
       "version_minor": 0
      },
      "text/plain": [
       "FloatProgress(value=0.0, bar_style='info', description='Progress:', layout=Layout(height='25px', width='50%'),…"
      ]
     },
     "metadata": {},
     "output_type": "display_data"
    },
    {
     "name": "stdout",
     "output_type": "stream",
     "text": [
      "[('a', 1), ('c', 1), ('b', 1)]\n",
      "<class 'list'>"
     ]
    }
   ],
   "source": [
    "#map\n",
    "\n",
    "rdd = sc.parallelize(['a','c','b'])\n",
    "new_rdd = rdd.map(lambda x : (x,1))\n",
    "print(new_rdd.collect())\n",
    "print(type(new_rdd.collect()))"
   ]
  },
  {
   "cell_type": "code",
   "execution_count": 3,
   "metadata": {},
   "outputs": [
    {
     "data": {
      "application/vnd.jupyter.widget-view+json": {
       "model_id": "",
       "version_major": 2,
       "version_minor": 0
      },
      "text/plain": [
       "FloatProgress(value=0.0, bar_style='info', description='Progress:', layout=Layout(height='25px', width='50%'),…"
      ]
     },
     "metadata": {},
     "output_type": "display_data"
    },
    {
     "name": "stdout",
     "output_type": "stream",
     "text": [
      "['a', 1, 'c', 1, 'b', 1]\n",
      "<class 'list'>"
     ]
    }
   ],
   "source": [
    "# flatMap\n",
    "\n",
    "rdd = sc.parallelize(['a','c','b'])\n",
    "new_rdd = rdd.flatMap(lambda x : (x,1))\n",
    "print(new_rdd.collect())\n",
    "print(type(new_rdd.collect()))"
   ]
  },
  {
   "cell_type": "code",
   "execution_count": 4,
   "metadata": {},
   "outputs": [
    {
     "data": {
      "application/vnd.jupyter.widget-view+json": {
       "model_id": "",
       "version_major": 2,
       "version_minor": 0
      },
      "text/plain": [
       "FloatProgress(value=0.0, bar_style='info', description='Progress:', layout=Layout(height='25px', width='50%'),…"
      ]
     },
     "metadata": {},
     "output_type": "display_data"
    },
    {
     "name": "stdout",
     "output_type": "stream",
     "text": [
      "['abcd', 'cafc']"
     ]
    }
   ],
   "source": [
    "# filter\n",
    "\n",
    "rdd = sc.parallelize(['abcd','cafc','bbgh'])\n",
    "new_rdd = rdd.filter(lambda x : 'a' in x)\n",
    "new_rdd.collect()"
   ]
  },
  {
   "cell_type": "code",
   "execution_count": 5,
   "metadata": {},
   "outputs": [
    {
     "data": {
      "application/vnd.jupyter.widget-view+json": {
       "model_id": "",
       "version_major": 2,
       "version_minor": 0
      },
      "text/plain": [
       "FloatProgress(value=0.0, bar_style='info', description='Progress:', layout=Layout(height='25px', width='50%'),…"
      ]
     },
     "metadata": {},
     "output_type": "display_data"
    },
    {
     "name": "stdout",
     "output_type": "stream",
     "text": [
      "['b', 'c', 'a', 'f']"
     ]
    }
   ],
   "source": [
    "# distinct 刪除重複元素\n",
    "\n",
    "rdd = sc.parallelize(['a','b','a','b','f','c','a'])\n",
    "rdd.distinct().collect()\n"
   ]
  },
  {
   "cell_type": "code",
   "execution_count": 6,
   "metadata": {},
   "outputs": [
    {
     "data": {
      "application/vnd.jupyter.widget-view+json": {
       "model_id": "",
       "version_major": 2,
       "version_minor": 0
      },
      "text/plain": [
       "FloatProgress(value=0.0, bar_style='info', description='Progress:', layout=Layout(height='25px', width='50%'),…"
      ]
     },
     "metadata": {},
     "output_type": "display_data"
    },
    {
     "name": "stdout",
     "output_type": "stream",
     "text": [
      "['A', 'B', 'F', 'a', 'b', 'c']"
     ]
    }
   ],
   "source": [
    "#sortBy\n",
    "\n",
    "rdd = sc.parallelize(['b','c','A','F','a','B'])\n",
    "rdd.sortBy(lambda x:x).collect()"
   ]
  },
  {
   "cell_type": "code",
   "execution_count": 7,
   "metadata": {},
   "outputs": [
    {
     "data": {
      "application/vnd.jupyter.widget-view+json": {
       "model_id": "",
       "version_major": 2,
       "version_minor": 0
      },
      "text/plain": [
       "FloatProgress(value=0.0, bar_style='info', description='Progress:', layout=Layout(height='25px', width='50%'),…"
      ]
     },
     "metadata": {},
     "output_type": "display_data"
    },
    {
     "name": "stdout",
     "output_type": "stream",
     "text": [
      "['c', 'c', 'p', 'm', 't', 'c', 'm', 'k']"
     ]
    }
   ],
   "source": [
    "# union\n",
    "\n",
    "u1 = sc.parallelize([\"c\",\"c\",\"p\",\"m\",\"t\"])\n",
    "u2 = sc.parallelize([\"c\",\"m\",\"k\"])\n",
    "result = u1.union(u2)\n",
    "result.collect()"
   ]
  },
  {
   "cell_type": "code",
   "execution_count": 8,
   "metadata": {},
   "outputs": [
    {
     "data": {
      "application/vnd.jupyter.widget-view+json": {
       "model_id": "",
       "version_major": 2,
       "version_minor": 0
      },
      "text/plain": [
       "FloatProgress(value=0.0, bar_style='info', description='Progress:', layout=Layout(height='25px', width='50%'),…"
      ]
     },
     "metadata": {},
     "output_type": "display_data"
    },
    {
     "name": "stdout",
     "output_type": "stream",
     "text": [
      "['m', 'c']"
     ]
    }
   ],
   "source": [
    "# intersection\n",
    "\n",
    "u1 = sc.parallelize([\"c\",\"c\",\"p\",\"m\",\"t\"])\n",
    "u2 = sc.parallelize([\"c\",\"m\",\"k\"])\n",
    "result = u1.intersection(u2)\n",
    "result.collect()"
   ]
  },
  {
   "cell_type": "code",
   "execution_count": 9,
   "metadata": {},
   "outputs": [
    {
     "data": {
      "application/vnd.jupyter.widget-view+json": {
       "model_id": "",
       "version_major": 2,
       "version_minor": 0
      },
      "text/plain": [
       "FloatProgress(value=0.0, bar_style='info', description='Progress:', layout=Layout(height='25px', width='50%'),…"
      ]
     },
     "metadata": {},
     "output_type": "display_data"
    },
    {
     "name": "stdout",
     "output_type": "stream",
     "text": [
      "['t', 'p']"
     ]
    }
   ],
   "source": [
    "# subtract\n",
    "\n",
    "u1 = sc.parallelize([\"c\",\"c\",\"p\",\"m\",\"t\"])\n",
    "u2 = sc.parallelize([\"c\",\"m\",\"k\"])\n",
    "result = u1.subtract(u2)\n",
    "result.collect()"
   ]
  },
  {
   "cell_type": "code",
   "execution_count": 97,
   "metadata": {},
   "outputs": [
    {
     "data": {
      "application/vnd.jupyter.widget-view+json": {
       "model_id": "",
       "version_major": 2,
       "version_minor": 0
      },
      "text/plain": [
       "FloatProgress(value=0.0, bar_style='info', description='Progress:', layout=Layout(height='25px', width='50%'),…"
      ]
     },
     "metadata": {},
     "output_type": "display_data"
    },
    {
     "name": "stdout",
     "output_type": "stream",
     "text": [
      "['a', 'b']\n",
      "['1', '2']"
     ]
    }
   ],
   "source": [
    "# keys & values \n",
    "\n",
    "rdd = sc.parallelize([(\"a\",\"1\"),(\"b\",\"2\")])\n",
    "print(rdd.keys().collect())\n",
    "print(rdd.values().collect())"
   ]
  },
  {
   "cell_type": "code",
   "execution_count": 225,
   "metadata": {},
   "outputs": [
    {
     "data": {
      "application/vnd.jupyter.widget-view+json": {
       "model_id": "",
       "version_major": 2,
       "version_minor": 0
      },
      "text/plain": [
       "FloatProgress(value=0.0, bar_style='info', description='Progress:', layout=Layout(height='25px', width='50%'),…"
      ]
     },
     "metadata": {},
     "output_type": "display_data"
    },
    {
     "name": "stdout",
     "output_type": "stream",
     "text": [
      "[('a', [2, 3, 4]), ('b', [11, 21])]\n",
      "[('a', 2), ('a', 3), ('a', 4), ('b', 11), ('b', 21)]"
     ]
    }
   ],
   "source": [
    "# mapValue & flatMapValue(將value分開)\n",
    "\n",
    "def f(x):\n",
    "    li=[]\n",
    "    for i in x:\n",
    "        li.append(int(i)+1)\n",
    "    return li\n",
    "\n",
    "rdd = sc.parallelize([(\"a\",[\"1\",\"2\",\"3\"]),(\"b\",[\"10\",\"20\"])])\n",
    "print(rdd.mapValues(f).collect())\n",
    "print(rdd.flatMapValues(f).collect())"
   ]
  },
  {
   "cell_type": "code",
   "execution_count": 254,
   "metadata": {},
   "outputs": [
    {
     "data": {
      "application/vnd.jupyter.widget-view+json": {
       "model_id": "",
       "version_major": 2,
       "version_minor": 0
      },
      "text/plain": [
       "FloatProgress(value=0.0, bar_style='info', description='Progress:', layout=Layout(height='25px', width='50%'),…"
      ]
     },
     "metadata": {},
     "output_type": "display_data"
    },
    {
     "name": "stdout",
     "output_type": "stream",
     "text": [
      "[('b', ((7, 5), 3)), ('a', 2)]"
     ]
    }
   ],
   "source": [
    "# reduceByKey，相同 key值的value放一起\n",
    "\n",
    "rdd = sc.parallelize([(\"a\",2),(\"b\",7),(\"b\",3),(\"b\",5)])\n",
    "rdd.reduceByKey(lambda x,y:(x,y)).collect()"
   ]
  },
  {
   "cell_type": "code",
   "execution_count": 265,
   "metadata": {},
   "outputs": [
    {
     "data": {
      "application/vnd.jupyter.widget-view+json": {
       "model_id": "",
       "version_major": 2,
       "version_minor": 0
      },
      "text/plain": [
       "FloatProgress(value=0.0, bar_style='info', description='Progress:', layout=Layout(height='25px', width='50%'),…"
      ]
     },
     "metadata": {},
     "output_type": "display_data"
    },
    {
     "name": "stdout",
     "output_type": "stream",
     "text": [
      "[('b', [7, 8, '9', 5, 6, '7', 3, 4, '5']), ('a', [2, 3, '4'])]"
     ]
    }
   ],
   "source": [
    "# combineByKey，將 RDD[(K,V)]轉成 RDD[(K,C)]\n",
    "\n",
    "rdd = sc.parallelize([(\"a\",2),(\"b\",7),(\"b\",3),(\"b\",5)])\n",
    "createCombiner = lambda x : [x,x+1,str(x+2)] # 將value輸出為list\n",
    "mergeValue = lambda x,y:(x+y)\n",
    "mergeCombiners = lambda x,y:(x+y)\n",
    "\n",
    "rdd.combineByKey(createCombiner,mergeValue,mergeCombiners).collect()"
   ]
  },
  {
   "cell_type": "code",
   "execution_count": 271,
   "metadata": {},
   "outputs": [
    {
     "data": {
      "application/vnd.jupyter.widget-view+json": {
       "model_id": "",
       "version_major": 2,
       "version_minor": 0
      },
      "text/plain": [
       "FloatProgress(value=0.0, bar_style='info', description='Progress:', layout=Layout(height='25px', width='50%'),…"
      ]
     },
     "metadata": {},
     "output_type": "display_data"
    },
    {
     "name": "stdout",
     "output_type": "stream",
     "text": [
      "[('b', [3, 7, 5]), ('a', [2])]"
     ]
    }
   ],
   "source": [
    "# groupByKey，相同 key值的value放一起\n",
    "\n",
    "rdd = sc.parallelize([(\"a\",2),(\"b\",7),(\"b\",3),(\"b\",5)])\n",
    "rdd.groupByKey().mapValues(list).collect()"
   ]
  },
  {
   "cell_type": "code",
   "execution_count": 283,
   "metadata": {},
   "outputs": [
    {
     "data": {
      "application/vnd.jupyter.widget-view+json": {
       "model_id": "",
       "version_major": 2,
       "version_minor": 0
      },
      "text/plain": [
       "FloatProgress(value=0.0, bar_style='info', description='Progress:', layout=Layout(height='25px', width='50%'),…"
      ]
     },
     "metadata": {},
     "output_type": "display_data"
    },
    {
     "name": "stdout",
     "output_type": "stream",
     "text": [
      "[('a', (2, 3)), ('a', (2, 6))]"
     ]
    }
   ],
   "source": [
    "# join\n",
    "\n",
    "rdd1 = sc.parallelize([(\"a\",2),(\"b\",7)])\n",
    "rdd2 = sc.parallelize([(\"a\",3),(\"a\",6)])\n",
    "rdd1.join(rdd2).collect()"
   ]
  },
  {
   "cell_type": "code",
   "execution_count": 289,
   "metadata": {},
   "outputs": [
    {
     "data": {
      "application/vnd.jupyter.widget-view+json": {
       "model_id": "",
       "version_major": 2,
       "version_minor": 0
      },
      "text/plain": [
       "FloatProgress(value=0.0, bar_style='info', description='Progress:', layout=Layout(height='25px', width='50%'),…"
      ]
     },
     "metadata": {},
     "output_type": "display_data"
    },
    {
     "name": "stdout",
     "output_type": "stream",
     "text": [
      "[('a', (2, 3)), ('b', (7, None))]"
     ]
    }
   ],
   "source": [
    "# leftOuterJoin\n",
    "\n",
    "rdd1 = sc.parallelize([(\"a\",2),(\"b\",7)])\n",
    "rdd2 = sc.parallelize([(\"a\",3),(\"c\",6)])\n",
    "rdd1.leftOuterJoin(rdd2).collect()"
   ]
  },
  {
   "cell_type": "code",
   "execution_count": 290,
   "metadata": {},
   "outputs": [
    {
     "data": {
      "application/vnd.jupyter.widget-view+json": {
       "model_id": "",
       "version_major": 2,
       "version_minor": 0
      },
      "text/plain": [
       "FloatProgress(value=0.0, bar_style='info', description='Progress:', layout=Layout(height='25px', width='50%'),…"
      ]
     },
     "metadata": {},
     "output_type": "display_data"
    },
    {
     "name": "stdout",
     "output_type": "stream",
     "text": [
      "[('a', (3, 2)), ('b', (None, 7))]"
     ]
    }
   ],
   "source": [
    "# rightOuterJoin\n",
    "\n",
    "rdd1 = sc.parallelize([(\"a\",2),(\"b\",7)])\n",
    "rdd2 = sc.parallelize([(\"a\",3),(\"c\",6)])\n",
    "rdd2.rightOuterJoin(rdd1).collect()"
   ]
  },
  {
   "cell_type": "code",
   "execution_count": 287,
   "metadata": {},
   "outputs": [
    {
     "data": {
      "application/vnd.jupyter.widget-view+json": {
       "model_id": "",
       "version_major": 2,
       "version_minor": 0
      },
      "text/plain": [
       "FloatProgress(value=0.0, bar_style='info', description='Progress:', layout=Layout(height='25px', width='50%'),…"
      ]
     },
     "metadata": {},
     "output_type": "display_data"
    },
    {
     "name": "stdout",
     "output_type": "stream",
     "text": [
      "[('a', (3, 2)), ('b', (None, 7)), ('c', (6, None))]"
     ]
    }
   ],
   "source": [
    "# fullOuterJoin\n",
    "\n",
    "rdd1 = sc.parallelize([(\"a\",2),(\"b\",7)])\n",
    "rdd2 = sc.parallelize([(\"a\",3),(\"c\",6)])\n",
    "rdd2.fullOuterJoin(rdd1).collect()"
   ]
  },
  {
   "cell_type": "code",
   "execution_count": 301,
   "metadata": {},
   "outputs": [
    {
     "data": {
      "application/vnd.jupyter.widget-view+json": {
       "model_id": "",
       "version_major": 2,
       "version_minor": 0
      },
      "text/plain": [
       "FloatProgress(value=0.0, bar_style='info', description='Progress:', layout=Layout(height='25px', width='50%'),…"
      ]
     },
     "metadata": {},
     "output_type": "display_data"
    },
    {
     "name": "stdout",
     "output_type": "stream",
     "text": [
      "[('2', 6), ('3', 2), ('a', 2), ('b', 7), ('d', 7)]\n",
      "[('2', 6), ('3', 2), ('a', 2), ('b', 7), ('d', 7)]\n",
      "[('d', 7), ('b', 7), ('a', 2), ('3', 2), ('2', 6)]"
     ]
    }
   ],
   "source": [
    "# sortByKey\n",
    "\n",
    "tmp = [(\"a\",2),(\"b\",7),(\"3\",2),(\"d\",7),(\"2\",6)]\n",
    "rdd1 = sc.parallelize(tmp).sortByKey().collect()\n",
    "rdd2 = sc.parallelize(tmp).sortByKey(True).collect()\n",
    "rdd3 = sc.parallelize(tmp).sortByKey(False).collect()\n",
    "print(rdd1)\n",
    "print(rdd2)\n",
    "print(rdd3)"
   ]
  },
  {
   "cell_type": "markdown",
   "metadata": {},
   "source": [
    "### Action"
   ]
  },
  {
   "cell_type": "code",
   "execution_count": 154,
   "metadata": {},
   "outputs": [
    {
     "data": {
      "application/vnd.jupyter.widget-view+json": {
       "model_id": "",
       "version_major": 2,
       "version_minor": 0
      },
      "text/plain": [
       "FloatProgress(value=0.0, bar_style='info', description='Progress:', layout=Layout(height='25px', width='50%'),…"
      ]
     },
     "metadata": {},
     "output_type": "display_data"
    },
    {
     "name": "stdout",
     "output_type": "stream",
     "text": [
      "[('a', '1'), ('b', '2')]\n",
      "{'a': '1', 'b': '2'}"
     ]
    }
   ],
   "source": [
    "# collect()返回list & collectAsMap()返回dict\n",
    "\n",
    "rdd = sc.parallelize([(\"a\",\"1\"),(\"b\",\"2\")])\n",
    "print(rdd.collect())\n",
    "print(rdd.collectAsMap())"
   ]
  },
  {
   "cell_type": "code",
   "execution_count": 11,
   "metadata": {},
   "outputs": [
    {
     "data": {
      "application/vnd.jupyter.widget-view+json": {
       "model_id": "",
       "version_major": 2,
       "version_minor": 0
      },
      "text/plain": [
       "FloatProgress(value=0.0, bar_style='info', description='Progress:', layout=Layout(height='25px', width='50%'),…"
      ]
     },
     "metadata": {},
     "output_type": "display_data"
    },
    {
     "name": "stdout",
     "output_type": "stream",
     "text": [
      "['c', 'x']\n",
      "c"
     ]
    }
   ],
   "source": [
    "# take & first\n",
    "\n",
    "rdd = sc.parallelize([\"c\",\"x\",\"p\",\"m\",\"t\"])\n",
    "print(rdd.take(2))\n",
    "print(rdd.first())"
   ]
  },
  {
   "cell_type": "code",
   "execution_count": 12,
   "metadata": {},
   "outputs": [
    {
     "data": {
      "application/vnd.jupyter.widget-view+json": {
       "model_id": "",
       "version_major": 2,
       "version_minor": 0
      },
      "text/plain": [
       "FloatProgress(value=0.0, bar_style='info', description='Progress:', layout=Layout(height='25px', width='50%'),…"
      ]
     },
     "metadata": {},
     "output_type": "display_data"
    },
    {
     "name": "stdout",
     "output_type": "stream",
     "text": [
      "13\n",
      "defaultdict(<class 'int'>, {1: 3, 3: 4, 2: 1, 5: 2, 4: 3})\n",
      "dict_items([(1, 3), (3, 4), (2, 1), (5, 2), (4, 3)])\n",
      "[(1, 3), (2, 1), (3, 4), (4, 3), (5, 2)]"
     ]
    }
   ],
   "source": [
    "# count & countByValue\n",
    "\n",
    "rdd = sc.parallelize([1,3,3,1,2,5,4,4,5,3,3,1,4])\n",
    "print(rdd.count())\n",
    "print(rdd.countByValue())\n",
    "print(rdd.countByValue().items())\n",
    "print(sorted(rdd.countByValue().items()))"
   ]
  },
  {
   "cell_type": "code",
   "execution_count": 153,
   "metadata": {},
   "outputs": [
    {
     "data": {
      "application/vnd.jupyter.widget-view+json": {
       "model_id": "",
       "version_major": 2,
       "version_minor": 0
      },
      "text/plain": [
       "FloatProgress(value=0.0, bar_style='info', description='Progress:', layout=Layout(height='25px', width='50%'),…"
      ]
     },
     "metadata": {},
     "output_type": "display_data"
    },
    {
     "name": "stdout",
     "output_type": "stream",
     "text": [
      "120"
     ]
    }
   ],
   "source": [
    "# reduce(f) 整合所有數據\n",
    "\n",
    "rdd = sc.parallelize([1,2,3,4,5]).reduce(lambda x, y: x * y)\n",
    "print(rdd)"
   ]
  },
  {
   "cell_type": "code",
   "execution_count": 14,
   "metadata": {},
   "outputs": [
    {
     "data": {
      "application/vnd.jupyter.widget-view+json": {
       "model_id": "",
       "version_major": 2,
       "version_minor": 0
      },
      "text/plain": [
       "FloatProgress(value=0.0, bar_style='info', description='Progress:', layout=Layout(height='25px', width='50%'),…"
      ]
     },
     "metadata": {},
     "output_type": "display_data"
    },
    {
     "name": "stdout",
     "output_type": "stream",
     "text": [
      "ParallelCollectionRDD[55] at parallelize at PythonRDD.scala:195"
     ]
    }
   ],
   "source": [
    "# aggregate\n",
    "\n",
    "rdd = sc.parallelize([1,2,3,4,5])\n",
    "rdd"
   ]
  },
  {
   "cell_type": "code",
   "execution_count": 152,
   "metadata": {},
   "outputs": [
    {
     "data": {
      "application/vnd.jupyter.widget-view+json": {
       "model_id": "",
       "version_major": 2,
       "version_minor": 0
      },
      "text/plain": [
       "FloatProgress(value=0.0, bar_style='info', description='Progress:', layout=Layout(height='25px', width='50%'),…"
      ]
     },
     "metadata": {},
     "output_type": "display_data"
    }
   ],
   "source": [
    "# foreach &&  foreachPartition ， !!!cluster中只會印在worker，不會印在client端\n",
    "\n",
    "def f(x): \n",
    "    print(x)\n",
    "rdd = sc.parallelize([\"1\", \"2\", \"3\", \"4\", \"5\"]).foreach(f)\n",
    "rdd"
   ]
  },
  {
   "cell_type": "code",
   "execution_count": 93,
   "metadata": {},
   "outputs": [
    {
     "data": {
      "application/vnd.jupyter.widget-view+json": {
       "model_id": "",
       "version_major": 2,
       "version_minor": 0
      },
      "text/plain": [
       "FloatProgress(value=0.0, bar_style='info', description='Progress:', layout=Layout(height='25px', width='50%'),…"
      ]
     },
     "metadata": {},
     "output_type": "display_data"
    },
    {
     "name": "stdout",
     "output_type": "stream",
     "text": [
      "1\n",
      "2\n",
      "3\n",
      "4\n",
      "5"
     ]
    }
   ],
   "source": [
    "rdd = sc.parallelize([1, 2, 3, 4, 5]).take(5)\n",
    "def f(x):\n",
    "    for i in rdd:\n",
    "        print(i)\n",
    "f(rdd)"
   ]
  },
  {
   "cell_type": "code",
   "execution_count": 105,
   "metadata": {},
   "outputs": [
    {
     "data": {
      "application/vnd.jupyter.widget-view+json": {
       "model_id": "",
       "version_major": 2,
       "version_minor": 0
      },
      "text/plain": [
       "FloatProgress(value=0.0, bar_style='info', description='Progress:', layout=Layout(height='25px', width='50%'),…"
      ]
     },
     "metadata": {},
     "output_type": "display_data"
    },
    {
     "name": "stdout",
     "output_type": "stream",
     "text": [
      "<SparkContext master=spark://10.120.26.200:7077 appName=zzzZ>"
     ]
    }
   ],
   "source": [
    "sc"
   ]
  },
  {
   "cell_type": "code",
   "execution_count": 137,
   "metadata": {},
   "outputs": [
    {
     "data": {
      "application/vnd.jupyter.widget-view+json": {
       "model_id": "",
       "version_major": 2,
       "version_minor": 0
      },
      "text/plain": [
       "FloatProgress(value=0.0, bar_style='info', description='Progress:', layout=Layout(height='25px', width='50%'),…"
      ]
     },
     "metadata": {},
     "output_type": "display_data"
    },
    {
     "name": "stdout",
     "output_type": "stream",
     "text": [
      "[5, 6, 4, 3, 5, 4, 0, 0, 0, 0]"
     ]
    }
   ],
   "source": [
    "RDD1 = sc.textFile(\"hdfs://10.120.26.200/user/spark/spark101/avg_temperature/data\")\n",
    "\n",
    "def test(line):\n",
    "    try:\n",
    "        int(line.split(\",\")[12])\n",
    "        return True\n",
    "    except:\n",
    "        return False\n",
    "        \n",
    "\n",
    "RDD1 = RDD1.filter(test)\n",
    "RDD1 = RDD1.map(lambda x: int(x.split(\",\")[12]))\n",
    "#RDD1 = RDD1.map(lambda x: x[0] +1 )\n",
    "RDD1.take(10)\n"
   ]
  },
  {
   "cell_type": "code",
   "execution_count": null,
   "metadata": {},
   "outputs": [],
   "source": []
  },
  {
   "cell_type": "code",
   "execution_count": null,
   "metadata": {},
   "outputs": [],
   "source": []
  },
  {
   "cell_type": "code",
   "execution_count": null,
   "metadata": {},
   "outputs": [],
   "source": []
  },
  {
   "cell_type": "code",
   "execution_count": null,
   "metadata": {},
   "outputs": [],
   "source": []
  }
 ],
 "metadata": {
  "kernelspec": {
   "display_name": "PySpark",
   "language": "",
   "name": "pysparkkernel"
  },
  "language_info": {
   "codemirror_mode": {
    "name": "python",
    "version": 3
   },
   "mimetype": "text/x-python",
   "name": "pyspark",
   "pygments_lexer": "python3"
  }
 },
 "nbformat": 4,
 "nbformat_minor": 2
}
