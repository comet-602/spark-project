{
 "cells": [
  {
   "cell_type": "code",
   "execution_count": 1,
   "metadata": {},
   "outputs": [
    {
     "name": "stdout",
     "output_type": "stream",
     "text": [
      "Starting Spark application\n"
     ]
    },
    {
     "data": {
      "text/html": [
       "<table>\n",
       "<tr><th>ID</th><th>YARN Application ID</th><th>Kind</th><th>State</th><th>Spark UI</th><th>Driver log</th><th>Current session?</th></tr><tr><td>8</td><td>None</td><td>pyspark</td><td>idle</td><td></td><td></td><td>✔</td></tr></table>"
      ],
      "text/plain": [
       "<IPython.core.display.HTML object>"
      ]
     },
     "metadata": {},
     "output_type": "display_data"
    },
    {
     "data": {
      "application/vnd.jupyter.widget-view+json": {
       "model_id": "",
       "version_major": 2,
       "version_minor": 0
      },
      "text/plain": [
       "FloatProgress(value=0.0, bar_style='info', description='Progress:', layout=Layout(height='25px', width='50%'),…"
      ]
     },
     "metadata": {},
     "output_type": "display_data"
    },
    {
     "name": "stdout",
     "output_type": "stream",
     "text": [
      "SparkSession available as 'spark'.\n"
     ]
    },
    {
     "data": {
      "application/vnd.jupyter.widget-view+json": {
       "model_id": "",
       "version_major": 2,
       "version_minor": 0
      },
      "text/plain": [
       "FloatProgress(value=0.0, bar_style='info', description='Progress:', layout=Layout(height='25px', width='50%'),…"
      ]
     },
     "metadata": {},
     "output_type": "display_data"
    }
   ],
   "source": [
    "sc.stop()\n",
    "from pyspark import SparkConf, SparkContext\n",
    "from pyspark.sql import SparkSession,Row\n",
    "from pyspark.sql.functions import *\n",
    "from pyspark.sql.types import *\n",
    "\n",
    "conf = SparkConf().setAppName(\"zzzZ\")\\\n",
    "                  .setMaster(\"spark://10.120.26.200:7077\")\\\n",
    "                  .set(\"spark.executor.memory\", '6g')\\\n",
    "                  .set('spark.cores.max', '4')\n",
    "\n",
    "sc = SparkContext(conf=conf)\n",
    "spark = SparkSession.builder.appName('sql coming~').getOrCreate()"
   ]
  },
  {
   "cell_type": "code",
   "execution_count": 2,
   "metadata": {},
   "outputs": [
    {
     "data": {
      "application/vnd.jupyter.widget-view+json": {
       "model_id": "",
       "version_major": 2,
       "version_minor": 0
      },
      "text/plain": [
       "FloatProgress(value=0.0, bar_style='info', description='Progress:', layout=Layout(height='25px', width='50%'),…"
      ]
     },
     "metadata": {},
     "output_type": "display_data"
    },
    {
     "name": "stdout",
     "output_type": "stream",
     "text": [
      "+---+----+---+-----+\n",
      "| id|name|age| text|\n",
      "+---+----+---+-----+\n",
      "|  1|Suny| 10|water|\n",
      "|  2|Miya| 30|drink|\n",
      "|  3|Nana| 26|berry|\n",
      "|  3|Nana| 26|berry|\n",
      "|  3|Nana| 26| null|\n",
      "+---+----+---+-----+"
     ]
    }
   ],
   "source": [
    "# RDD創建表\n",
    "\n",
    "def create_df_from_rdd():\n",
    "    spark_rdd = spark.sparkContext.parallelize([\n",
    "        (1, \"Suny\", 10, \"water\"),\n",
    "        (2, \"Miya\", 30, \"drink\"),\n",
    "        (3, \"Nana\", 26, \"berry\"),\n",
    "        (3, \"Nana\", 26, \"berry\"),\n",
    "        (3, \"Nana\", 26, None)])\n",
    " \n",
    "    # 設置屬性\n",
    "    schema = StructType([StructField(\"id\", LongType(), True),\n",
    "                         StructField(\"name\", StringType(), True),\n",
    "                         StructField(\"age\", LongType(), True),\n",
    "                         StructField(\"text\", StringType(), True)])\n",
    "    # 建立DataFrame\n",
    "    df_from_rdd = spark.createDataFrame(spark_rdd, schema)\n",
    "    # 建立臨時表\n",
    "    df_from_rdd.createOrReplaceTempView(\"myTempView\")\n",
    "    # 使用SQL\n",
    "    data = spark.sql(\"select * from myTempView\")\n",
    "    return data\n",
    "    \n",
    "df = create_df_from_rdd()\n",
    "df.show()"
   ]
  },
  {
   "cell_type": "markdown",
   "metadata": {},
   "source": [
    "### 查詢"
   ]
  },
  {
   "cell_type": "code",
   "execution_count": 3,
   "metadata": {},
   "outputs": [
    {
     "data": {
      "application/vnd.jupyter.widget-view+json": {
       "model_id": "",
       "version_major": 2,
       "version_minor": 0
      },
      "text/plain": [
       "FloatProgress(value=0.0, bar_style='info', description='Progress:', layout=Layout(height='25px', width='50%'),…"
      ]
     },
     "metadata": {},
     "output_type": "display_data"
    },
    {
     "name": "stdout",
     "output_type": "stream",
     "text": [
      "5"
     ]
    }
   ],
   "source": [
    "# 確認數量\n",
    "\n",
    "df.count()"
   ]
  },
  {
   "cell_type": "code",
   "execution_count": 4,
   "metadata": {},
   "outputs": [
    {
     "data": {
      "application/vnd.jupyter.widget-view+json": {
       "model_id": "",
       "version_major": 2,
       "version_minor": 0
      },
      "text/plain": [
       "FloatProgress(value=0.0, bar_style='info', description='Progress:', layout=Layout(height='25px', width='50%'),…"
      ]
     },
     "metadata": {},
     "output_type": "display_data"
    },
    {
     "name": "stdout",
     "output_type": "stream",
     "text": [
      "root\n",
      " |-- id: long (nullable = true)\n",
      " |-- name: string (nullable = true)\n",
      " |-- age: long (nullable = true)\n",
      " |-- text: string (nullable = true)"
     ]
    }
   ],
   "source": [
    "# 確認型態\n",
    "\n",
    "\n",
    "df.printSchema() "
   ]
  },
  {
   "cell_type": "code",
   "execution_count": 5,
   "metadata": {},
   "outputs": [
    {
     "data": {
      "application/vnd.jupyter.widget-view+json": {
       "model_id": "",
       "version_major": 2,
       "version_minor": 0
      },
      "text/plain": [
       "FloatProgress(value=0.0, bar_style='info', description='Progress:', layout=Layout(height='25px', width='50%'),…"
      ]
     },
     "metadata": {},
     "output_type": "display_data"
    },
    {
     "name": "stdout",
     "output_type": "stream",
     "text": [
      "['id', 'name', 'age', 'text']"
     ]
    }
   ],
   "source": [
    "# 確認欄位\n",
    "\n",
    "df.columns"
   ]
  },
  {
   "cell_type": "code",
   "execution_count": 6,
   "metadata": {},
   "outputs": [
    {
     "data": {
      "application/vnd.jupyter.widget-view+json": {
       "model_id": "",
       "version_major": 2,
       "version_minor": 0
      },
      "text/plain": [
       "FloatProgress(value=0.0, bar_style='info', description='Progress:', layout=Layout(height='25px', width='50%'),…"
      ]
     },
     "metadata": {},
     "output_type": "display_data"
    },
    {
     "name": "stdout",
     "output_type": "stream",
     "text": [
      "[('id', 'bigint'), ('name', 'string'), ('age', 'bigint'), ('text', 'string')]"
     ]
    }
   ],
   "source": [
    "# 確認類型\n",
    "\n",
    "df.dtypes"
   ]
  },
  {
   "cell_type": "code",
   "execution_count": 7,
   "metadata": {},
   "outputs": [
    {
     "data": {
      "application/vnd.jupyter.widget-view+json": {
       "model_id": "",
       "version_major": 2,
       "version_minor": 0
      },
      "text/plain": [
       "FloatProgress(value=0.0, bar_style='info', description='Progress:', layout=Layout(height='25px', width='50%'),…"
      ]
     },
     "metadata": {},
     "output_type": "display_data"
    },
    {
     "name": "stdout",
     "output_type": "stream",
     "text": [
      "+---+----+\n",
      "|age|name|\n",
      "+---+----+\n",
      "| 10|Suny|\n",
      "| 30|Miya|\n",
      "| 26|Nana|\n",
      "| 26|Nana|\n",
      "| 26|Nana|\n",
      "+---+----+"
     ]
    }
   ],
   "source": [
    "# 查詢\n",
    "\n",
    "df.select('age','name').show()"
   ]
  },
  {
   "cell_type": "code",
   "execution_count": 8,
   "metadata": {},
   "outputs": [
    {
     "data": {
      "application/vnd.jupyter.widget-view+json": {
       "model_id": "",
       "version_major": 2,
       "version_minor": 0
      },
      "text/plain": [
       "FloatProgress(value=0.0, bar_style='info', description='Progress:', layout=Layout(height='25px', width='50%'),…"
      ]
     },
     "metadata": {},
     "output_type": "display_data"
    },
    {
     "name": "stdout",
     "output_type": "stream",
     "text": [
      "+---------+----+\n",
      "|age_value|name|\n",
      "+---------+----+\n",
      "|       10|Suny|\n",
      "|       30|Miya|\n",
      "|       26|Nana|\n",
      "|       26|Nana|\n",
      "|       26|Nana|\n",
      "+---------+----+"
     ]
    }
   ],
   "source": [
    "# 別名\n",
    "\n",
    "df.select(df.age.alias('age_value'),'name').show()"
   ]
  },
  {
   "cell_type": "markdown",
   "metadata": {},
   "source": [
    "### 處理"
   ]
  },
  {
   "cell_type": "code",
   "execution_count": 17,
   "metadata": {},
   "outputs": [
    {
     "data": {
      "application/vnd.jupyter.widget-view+json": {
       "model_id": "",
       "version_major": 2,
       "version_minor": 0
      },
      "text/plain": [
       "FloatProgress(value=0.0, bar_style='info', description='Progress:', layout=Layout(height='25px', width='50%'),…"
      ]
     },
     "metadata": {},
     "output_type": "display_data"
    },
    {
     "name": "stdout",
     "output_type": "stream",
     "text": [
      "+---+----+---+-----+\n",
      "| id|name|age| text|\n",
      "+---+----+---+-----+\n",
      "|  2|Miya| 30|drink|\n",
      "+---+----+---+-----+\n",
      "\n",
      "+---+----+---+----+\n",
      "| id|name|age|text|\n",
      "+---+----+---+----+\n",
      "|  3|Nana| 26|null|\n",
      "+---+----+---+----+"
     ]
    }
   ],
   "source": [
    "# 篩選\n",
    "\n",
    "df.filter(df.name=='Miya').show()\n",
    "df.filter(isnull('text')).show()"
   ]
  },
  {
   "cell_type": "code",
   "execution_count": 10,
   "metadata": {},
   "outputs": [
    {
     "data": {
      "application/vnd.jupyter.widget-view+json": {
       "model_id": "",
       "version_major": 2,
       "version_minor": 0
      },
      "text/plain": [
       "FloatProgress(value=0.0, bar_style='info', description='Progress:', layout=Layout(height='25px', width='50%'),…"
      ]
     },
     "metadata": {},
     "output_type": "display_data"
    },
    {
     "name": "stdout",
     "output_type": "stream",
     "text": [
      "+---+----+---+-----+\n",
      "| id|name|age| text|\n",
      "+---+----+---+-----+\n",
      "|  3|Nana| 26|berry|\n",
      "|  3|Nana| 26| null|\n",
      "|  1|Suny| 10|water|\n",
      "|  2|Miya| 30|drink|\n",
      "+---+----+---+-----+"
     ]
    }
   ],
   "source": [
    "# 去重複\n",
    "\n",
    "dd = df.drop_duplicates()\n",
    "# df.distinct().show()\n",
    "dd.show()"
   ]
  },
  {
   "cell_type": "code",
   "execution_count": 11,
   "metadata": {},
   "outputs": [
    {
     "data": {
      "application/vnd.jupyter.widget-view+json": {
       "model_id": "",
       "version_major": 2,
       "version_minor": 0
      },
      "text/plain": [
       "FloatProgress(value=0.0, bar_style='info', description='Progress:', layout=Layout(height='25px', width='50%'),…"
      ]
     },
     "metadata": {},
     "output_type": "display_data"
    },
    {
     "name": "stdout",
     "output_type": "stream",
     "text": [
      "+---+----+---+-----+\n",
      "| id|name|age| text|\n",
      "+---+----+---+-----+\n",
      "|  3|Nana| 26|berry|\n",
      "|  1|Suny| 10|water|\n",
      "|  2|Miya| 30|drink|\n",
      "+---+----+---+-----+"
     ]
    }
   ],
   "source": [
    "# 去除 text 欄位的缺失值\n",
    "\n",
    "ds = dd.dropna(subset=['text'])\n",
    "ds.show()"
   ]
  },
  {
   "cell_type": "code",
   "execution_count": 12,
   "metadata": {},
   "outputs": [
    {
     "data": {
      "application/vnd.jupyter.widget-view+json": {
       "model_id": "",
       "version_major": 2,
       "version_minor": 0
      },
      "text/plain": [
       "FloatProgress(value=0.0, bar_style='info', description='Progress:', layout=Layout(height='25px', width='50%'),…"
      ]
     },
     "metadata": {},
     "output_type": "display_data"
    },
    {
     "name": "stdout",
     "output_type": "stream",
     "text": [
      "+---+----+---+-----+\n",
      "| id|name|age| text|\n",
      "+---+----+---+-----+\n",
      "|  1|Suny| 10|water|\n",
      "|  2|Miya| 30|drink|\n",
      "|  3|Nana| 26|berry|\n",
      "|  3|Nana| 26|berry|\n",
      "|  3|Nana| 26|   10|\n",
      "+---+----+---+-----+"
     ]
    }
   ],
   "source": [
    "# 缺失值補值 (指定缺失值)\n",
    "\n",
    "df.fillna({'text':10}).show()\n",
    "#df.fillna(0, subset=['text']).show()"
   ]
  },
  {
   "cell_type": "code",
   "execution_count": 13,
   "metadata": {},
   "outputs": [
    {
     "data": {
      "application/vnd.jupyter.widget-view+json": {
       "model_id": "",
       "version_major": 2,
       "version_minor": 0
      },
      "text/plain": [
       "FloatProgress(value=0.0, bar_style='info', description='Progress:', layout=Layout(height='25px', width='50%'),…"
      ]
     },
     "metadata": {},
     "output_type": "display_data"
    },
    {
     "name": "stdout",
     "output_type": "stream",
     "text": [
      "+---+----+-----+\n",
      "| id|name| text|\n",
      "+---+----+-----+\n",
      "|  1|Suny|water|\n",
      "|  2|Miya|drink|\n",
      "|  3|Nana|berry|\n",
      "|  3|Nana|berry|\n",
      "|  3|Nana| null|\n",
      "+---+----+-----+"
     ]
    }
   ],
   "source": [
    "#刪除欄位\n",
    "\n",
    "df.drop('age').show()"
   ]
  },
  {
   "cell_type": "code",
   "execution_count": 14,
   "metadata": {},
   "outputs": [
    {
     "data": {
      "application/vnd.jupyter.widget-view+json": {
       "model_id": "",
       "version_major": 2,
       "version_minor": 0
      },
      "text/plain": [
       "FloatProgress(value=0.0, bar_style='info', description='Progress:', layout=Layout(height='25px', width='50%'),…"
      ]
     },
     "metadata": {},
     "output_type": "display_data"
    },
    {
     "name": "stdout",
     "output_type": "stream",
     "text": [
      "+-------+---+----+\n",
      "|add_col|age|name|\n",
      "+-------+---+----+\n",
      "|     11| 10|Suny|\n",
      "|     31| 30|Miya|\n",
      "|     27| 26|Nana|\n",
      "|     27| 26|Nana|\n",
      "|     27| 26|Nana|\n",
      "+-------+---+----+"
     ]
    }
   ],
   "source": [
    "# 將欄位重新計算後再增加新欄位\n",
    "\n",
    "df.select((df.age+1).alias('add_col'),'age','name').show()"
   ]
  },
  {
   "cell_type": "code",
   "execution_count": 15,
   "metadata": {},
   "outputs": [
    {
     "data": {
      "application/vnd.jupyter.widget-view+json": {
       "model_id": "",
       "version_major": 2,
       "version_minor": 0
      },
      "text/plain": [
       "FloatProgress(value=0.0, bar_style='info', description='Progress:', layout=Layout(height='25px', width='50%'),…"
      ]
     },
     "metadata": {},
     "output_type": "display_data"
    },
    {
     "name": "stdout",
     "output_type": "stream",
     "text": [
      "+-------+------------------+----+-----------------+-----+\n",
      "|summary|                id|name|              age| text|\n",
      "+-------+------------------+----+-----------------+-----+\n",
      "|  count|                 5|   5|                5|    4|\n",
      "|   mean|               2.4|null|             23.6| null|\n",
      "| stddev|0.8944271909999159|null|7.797435475847171| null|\n",
      "|    min|                 1|Miya|               10|berry|\n",
      "|    max|                 3|Suny|               30|water|\n",
      "+-------+------------------+----+-----------------+-----+"
     ]
    }
   ],
   "source": [
    "df.describe().show()"
   ]
  },
  {
   "cell_type": "markdown",
   "metadata": {},
   "source": [
    "### 合併"
   ]
  },
  {
   "cell_type": "code",
   "execution_count": 34,
   "metadata": {},
   "outputs": [
    {
     "data": {
      "application/vnd.jupyter.widget-view+json": {
       "model_id": "",
       "version_major": 2,
       "version_minor": 0
      },
      "text/plain": [
       "FloatProgress(value=0.0, bar_style='info', description='Progress:', layout=Layout(height='25px', width='50%'),…"
      ]
     },
     "metadata": {},
     "output_type": "display_data"
    },
    {
     "name": "stdout",
     "output_type": "stream",
     "text": [
      "+---+----+---+-----+\n",
      "| _1|  _2| _3|   _4|\n",
      "+---+----+---+-----+\n",
      "|  1|Suny| 10|water|\n",
      "|  2|Miya| 30|drink|\n",
      "|  3| Luk| 30| coke|\n",
      "+---+----+---+-----+\n",
      "\n",
      "+---+----+---+-----+\n",
      "| _1|  _2| _3|   _4|\n",
      "+---+----+---+-----+\n",
      "|  1|Suny| 10|water|\n",
      "|  2|Miya| 30|drink|\n",
      "|  3|Nana| 26|berry|\n",
      "+---+----+---+-----+"
     ]
    }
   ],
   "source": [
    "table_1 = spark.sparkContext.parallelize([\n",
    "        (1, \"Suny\", 10, \"water\"),\n",
    "        (2, \"Miya\", 30, \"drink\"),\n",
    "        (3, \"Luk\", 30, \"coke\")\n",
    "        ]).toDF()\n",
    "\n",
    "table_2 = spark.sparkContext.parallelize([\n",
    "        (1, \"Suny\", 10, \"water\"),\n",
    "        (2, \"Miya\", 30, \"drink\"),\n",
    "        (3, \"Nana\", 26, \"berry\"),\n",
    "        ]).toDF()\n",
    "table_1.show()\n",
    "table_2.show()"
   ]
  },
  {
   "cell_type": "code",
   "execution_count": 35,
   "metadata": {},
   "outputs": [
    {
     "data": {
      "application/vnd.jupyter.widget-view+json": {
       "model_id": "",
       "version_major": 2,
       "version_minor": 0
      },
      "text/plain": [
       "FloatProgress(value=0.0, bar_style='info', description='Progress:', layout=Layout(height='25px', width='50%'),…"
      ]
     },
     "metadata": {},
     "output_type": "display_data"
    },
    {
     "name": "stdout",
     "output_type": "stream",
     "text": [
      "+----+\n",
      "|  _2|\n",
      "+----+\n",
      "|Suny|\n",
      "|Miya|\n",
      "| Luk|\n",
      "+----+"
     ]
    }
   ],
   "source": [
    "# 選取\n",
    "newDF = table_1.select(\"_2\")\n",
    "newDF.show()"
   ]
  },
  {
   "cell_type": "code",
   "execution_count": 36,
   "metadata": {},
   "outputs": [
    {
     "data": {
      "application/vnd.jupyter.widget-view+json": {
       "model_id": "",
       "version_major": 2,
       "version_minor": 0
      },
      "text/plain": [
       "FloatProgress(value=0.0, bar_style='info', description='Progress:', layout=Layout(height='25px', width='50%'),…"
      ]
     },
     "metadata": {},
     "output_type": "display_data"
    },
    {
     "name": "stdout",
     "output_type": "stream",
     "text": [
      "+----+\n",
      "|  _2|\n",
      "+----+\n",
      "|Suny|\n",
      "|Miya|\n",
      "| Luk|\n",
      "|Suny|\n",
      "|Miya|\n",
      "|Nana|\n",
      "+----+"
     ]
    }
   ],
   "source": [
    "# 合集\n",
    "newDF = table_1.select(\"_2\").union(table_2.select(\"_2\"))\n",
    "newDF.show()"
   ]
  },
  {
   "cell_type": "code",
   "execution_count": 39,
   "metadata": {},
   "outputs": [
    {
     "data": {
      "application/vnd.jupyter.widget-view+json": {
       "model_id": "",
       "version_major": 2,
       "version_minor": 0
      },
      "text/plain": [
       "FloatProgress(value=0.0, bar_style='info', description='Progress:', layout=Layout(height='25px', width='50%'),…"
      ]
     },
     "metadata": {},
     "output_type": "display_data"
    },
    {
     "name": "stdout",
     "output_type": "stream",
     "text": [
      "+----+\n",
      "|  _2|\n",
      "+----+\n",
      "| Luk|\n",
      "|Miya|\n",
      "|Nana|\n",
      "|Suny|\n",
      "+----+"
     ]
    }
   ],
   "source": [
    "# 合集 & 去重複\n",
    "newDF = table_1.select(\"_2\").union(table_2.select(\"_2\")).distinct()\n",
    "newDF.show()"
   ]
  },
  {
   "cell_type": "code",
   "execution_count": 37,
   "metadata": {},
   "outputs": [
    {
     "data": {
      "application/vnd.jupyter.widget-view+json": {
       "model_id": "",
       "version_major": 2,
       "version_minor": 0
      },
      "text/plain": [
       "FloatProgress(value=0.0, bar_style='info', description='Progress:', layout=Layout(height='25px', width='50%'),…"
      ]
     },
     "metadata": {},
     "output_type": "display_data"
    },
    {
     "name": "stdout",
     "output_type": "stream",
     "text": [
      "+----+\n",
      "|  _2|\n",
      "+----+\n",
      "|Miya|\n",
      "|Suny|\n",
      "+----+"
     ]
    }
   ],
   "source": [
    "# 交集\n",
    "newDF = table_1.select(\"_2\").intersect(table_2.select(\"_2\"))\n",
    "newDF.show()"
   ]
  },
  {
   "cell_type": "code",
   "execution_count": 38,
   "metadata": {},
   "outputs": [
    {
     "data": {
      "application/vnd.jupyter.widget-view+json": {
       "model_id": "",
       "version_major": 2,
       "version_minor": 0
      },
      "text/plain": [
       "FloatProgress(value=0.0, bar_style='info', description='Progress:', layout=Layout(height='25px', width='50%'),…"
      ]
     },
     "metadata": {},
     "output_type": "display_data"
    },
    {
     "name": "stdout",
     "output_type": "stream",
     "text": [
      "+---+\n",
      "| _2|\n",
      "+---+\n",
      "|Luk|\n",
      "+---+"
     ]
    }
   ],
   "source": [
    "# 差集\n",
    "newDF = table_1.select(\"_2\").subtract(table_2.select(\"_2\"))\n",
    "newDF.show()"
   ]
  },
  {
   "cell_type": "markdown",
   "metadata": {},
   "source": [
    "### 統計"
   ]
  },
  {
   "cell_type": "code",
   "execution_count": 46,
   "metadata": {},
   "outputs": [
    {
     "data": {
      "application/vnd.jupyter.widget-view+json": {
       "model_id": "",
       "version_major": 2,
       "version_minor": 0
      },
      "text/plain": [
       "FloatProgress(value=0.0, bar_style='info', description='Progress:', layout=Layout(height='25px', width='50%'),…"
      ]
     },
     "metadata": {},
     "output_type": "display_data"
    },
    {
     "name": "stdout",
     "output_type": "stream",
     "text": [
      "+---------+--------------------+--------------------+--------------------+-----+----+-----+\n",
      "|lsoa_code|             borough|      major_category|      minor_category|value|year|month|\n",
      "+---------+--------------------+--------------------+--------------------+-----+----+-----+\n",
      "|E01004563|          Wandsworth|             Robbery|   Personal Property|    0|2008|    6|\n",
      "|E01003496|              Newham|     Criminal Damage|Criminal Damage T...|    0|2013|    9|\n",
      "|E01000086|Barking and Dagenham|  Theft and Handling|  Other Theft Person|    1|2009|    5|\n",
      "|E01001317|              Ealing|            Burglary|Burglary in a Dwe...|    0|2013|    9|\n",
      "|E01000713|             Bromley|Violence Against ...|    Offensive Weapon|    0|2009|   12|\n",
      "+---------+--------------------+--------------------+--------------------+-----+----+-----+\n",
      "only showing top 5 rows"
     ]
    }
   ],
   "source": [
    "df = spark.read.csv(\"hdfs://10.120.26.200/user/spark/spark_sql_101/crime/data/\",\n",
    "                        inferSchema=True,\n",
    "                        header=True)\n",
    "df.show(5)"
   ]
  },
  {
   "cell_type": "code",
   "execution_count": 50,
   "metadata": {},
   "outputs": [
    {
     "data": {
      "application/vnd.jupyter.widget-view+json": {
       "model_id": "",
       "version_major": 2,
       "version_minor": 0
      },
      "text/plain": [
       "FloatProgress(value=0.0, bar_style='info', description='Progress:', layout=Layout(height='25px', width='50%'),…"
      ]
     },
     "metadata": {},
     "output_type": "display_data"
    },
    {
     "name": "stdout",
     "output_type": "stream",
     "text": [
      "+-------------------+-----+-----+-----+-----+-----+-----+-----+-----+-----+\n",
      "|major_category_year| 2008| 2009| 2010| 2011| 2012| 2013| 2014| 2015| 2016|\n",
      "+-------------------+-----+-----+-----+-----+-----+-----+-----+-----+-----+\n",
      "|   Fraud or Forgery| 2584| 2549| 2595| 2626| 2589| 2598| 2664| 2664| 2524|\n",
      "|    Sexual Offences| 1229| 1198| 1249| 1224| 1227| 1194| 1240| 1228| 1183|\n",
      "|              Drugs|13005|13011|13013|12979|12835|12919|13024|13109|13195|\n",
      "|    Criminal Damage|23149|23124|23222|22954|22734|22891|23258|22940|23225|\n",
      "|           Burglary|11534|11462|11394|11696|11354|11698|11454|11557|11641|\n",
      "+-------------------+-----+-----+-----+-----+-----+-----+-----+-----+-----+\n",
      "only showing top 5 rows"
     ]
    }
   ],
   "source": [
    "# 顯示不同類型在每年的數量\n",
    "df.crosstab('major_category','year').show(5)"
   ]
  },
  {
   "cell_type": "code",
   "execution_count": 58,
   "metadata": {},
   "outputs": [
    {
     "data": {
      "application/vnd.jupyter.widget-view+json": {
       "model_id": "",
       "version_major": 2,
       "version_minor": 0
      },
      "text/plain": [
       "FloatProgress(value=0.0, bar_style='info', description='Progress:', layout=Layout(height='25px', width='50%'),…"
      ]
     },
     "metadata": {},
     "output_type": "display_data"
    },
    {
     "name": "stdout",
     "output_type": "stream",
     "text": [
      "+--------------------+------+\n",
      "|      major_category| count|\n",
      "+--------------------+------+\n",
      "|               Drugs|117090|\n",
      "|             Robbery| 93657|\n",
      "|  Theft and Handling|396522|\n",
      "|    Fraud or Forgery| 23393|\n",
      "|Violence Against ...|318210|\n",
      "|            Burglary|103790|\n",
      "|Other Notifiable ...| 77922|\n",
      "|     Sexual Offences| 10972|\n",
      "|     Criminal Damage|207497|\n",
      "+--------------------+------+"
     ]
    }
   ],
   "source": [
    "# 計算類型的數量\n",
    "df.groupBy('major_category').count().show()"
   ]
  },
  {
   "cell_type": "code",
   "execution_count": 63,
   "metadata": {},
   "outputs": [
    {
     "data": {
      "application/vnd.jupyter.widget-view+json": {
       "model_id": "",
       "version_major": 2,
       "version_minor": 0
      },
      "text/plain": [
       "FloatProgress(value=0.0, bar_style='info', description='Progress:', layout=Layout(height='25px', width='50%'),…"
      ]
     },
     "metadata": {},
     "output_type": "display_data"
    },
    {
     "name": "stdout",
     "output_type": "stream",
     "text": [
      "+--------------------+---------+--------------------+\n",
      "|      major_category|num_major|          avg(value)|\n",
      "+--------------------+---------+--------------------+\n",
      "|               Drugs|   117090|  0.4045349730976172|\n",
      "|             Robbery|    93657|  0.2773951760146065|\n",
      "|  Theft and Handling|   396522|  0.6758767483267006|\n",
      "|    Fraud or Forgery|    23393|0.021373915273799855|\n",
      "|Violence Against ...|   318210|  0.4930611860092392|\n",
      "|            Burglary|   103790|  0.7205029386260718|\n",
      "|Other Notifiable ...|    77922| 0.14015297348630681|\n",
      "|     Sexual Offences|    10972|0.011483776886620488|\n",
      "|     Criminal Damage|   207497|  0.3047947681171294|\n",
      "+--------------------+---------+--------------------+"
     ]
    }
   ],
   "source": [
    "df.groupBy('major_category').agg(count('major_category').alias('num_major'),avg('value')).show()"
   ]
  },
  {
   "cell_type": "code",
   "execution_count": 64,
   "metadata": {},
   "outputs": [
    {
     "data": {
      "application/vnd.jupyter.widget-view+json": {
       "model_id": "",
       "version_major": 2,
       "version_minor": 0
      },
      "text/plain": [
       "FloatProgress(value=0.0, bar_style='info', description='Progress:', layout=Layout(height='25px', width='50%'),…"
      ]
     },
     "metadata": {},
     "output_type": "display_data"
    },
    {
     "name": "stdout",
     "output_type": "stream",
     "text": [
      "+--------------------+---------------------+\n",
      "|      major_category|count(major_category)|\n",
      "+--------------------+---------------------+\n",
      "|               Drugs|               117090|\n",
      "|             Robbery|                93657|\n",
      "|  Theft and Handling|               396522|\n",
      "|    Fraud or Forgery|                23393|\n",
      "|Violence Against ...|               318210|\n",
      "|            Burglary|               103790|\n",
      "|Other Notifiable ...|                77922|\n",
      "|     Sexual Offences|                10972|\n",
      "|     Criminal Damage|               207497|\n",
      "+--------------------+---------------------+"
     ]
    }
   ],
   "source": [
    "df.groupBy('major_category').agg(count('major_category')).show()"
   ]
  },
  {
   "cell_type": "code",
   "execution_count": null,
   "metadata": {},
   "outputs": [],
   "source": []
  }
 ],
 "metadata": {
  "kernelspec": {
   "display_name": "PySpark",
   "language": "",
   "name": "pysparkkernel"
  },
  "language_info": {
   "codemirror_mode": {
    "name": "python",
    "version": 3
   },
   "mimetype": "text/x-python",
   "name": "pyspark",
   "pygments_lexer": "python3"
  }
 },
 "nbformat": 4,
 "nbformat_minor": 2
}
